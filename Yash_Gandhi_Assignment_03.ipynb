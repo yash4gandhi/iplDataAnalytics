{
 "cells": [
  {
   "cell_type": "markdown",
   "metadata": {
    "colab_type": "text",
    "id": "84GSxwVNxaPw"
   },
   "source": [
    "<b> Yash Gandhi <br> IT"
   ]
  },
  {
   "cell_type": "markdown",
   "metadata": {
    "colab_type": "text",
    "id": "4mbG-ttB6Tza"
   },
   "source": [
    "### **The Showdown!**\n",
    "* Great to see you progressing well in this project. **Kudos!**\n",
    "* Now, the **Next Steps :** \n",
    "  * **Reflect back** through your entire experience of the project till now\n",
    "  * Pick up **one theme** which you find **most exciting** or you have **most confidence** on based on the **EDA** or your cricket knowledge\n",
    "  * Examples of themes : \n",
    "    * Batting performances\n",
    "    * Match Analysis\n",
    "    * Player Analysis\n",
    "  * Build a **storyline** around one of the themes of your choice (Make use of the **text cells** anyhere below to do a detailed write up about your theme\n",
    "  * Build a **Power BI Dashboard** to present your story\n",
    "\n"
   ]
  },
  {
   "cell_type": "markdown",
   "metadata": {
    "colab_type": "text",
    "id": "cKZCrVu1sOJy"
   },
   "source": [
    "<b>The submitted data visualization focuses on match analysis of ipl over the years.\n",
    "</b><br>Page 1:<br> We first talk in detail about the 'Toss' which is one of the significant factors for winning a match. The toss is analyzed by ground,team,year and the decision using the stacked column chart ,line chart and pie chart.<BR> It turns out that field first is the preferred decision by the teams more than batting first. Also there is an increasing trend over the years of team choosing to field first.\n",
    "\n",
    "<br>Page 2:<br>\n",
    "Next we see a hierarchy tree which analyzes Match winners and the tree is further divided down on factors like team,tosswinner and tossdecision.\n",
    "<br> CSK is the only team who has won more matches by choosing bat first after winning the toss.\n",
    "<br>\n",
    "There is also an ArGis Map to show the Total runs made over the seaons in different cities in the world. Mumbai tops the chart.\n",
    "\n",
    "<BR>Page 3: \n",
    "<br>This page covers batting statistics based on factors like Extra_runs, 4's,6's and runs made by different teams on different grounds. It has list and clustered column chart,pie chart, line chart and tree map.\n",
    "<br> MI has been given the most extra runs while batting in 1st innings.\n",
    "Wides and legbyes are the top categories in extras.\n",
    "<br><br>\n",
    "Page 4:\n",
    "<br> It displays a key influencers. It basically potrays the probability of a team winning at different venues.<br>\n",
    "It also points out which cities are best for a team to win a match.\n",
    "<br> SRH,CSK,RR are top teams that highly depend on home grounds to win matches.\n"
   ]
  },
  {
   "cell_type": "markdown",
   "metadata": {
    "colab_type": "text",
    "id": "va2ptbiT8Djs"
   },
   "source": [
    "### **Your Focus Areas**\n",
    "* **Thought process** put behind the storyline\n",
    "* **Creativity** and **Meaningfulness** put behind **metric calculation**\n",
    "* **Placement** of visuals/charts on the dashboard page(s)\n",
    "* **Flow** of your story\n",
    "* **Backup** of arguments with **sufficient** data"
   ]
  },
  {
   "cell_type": "markdown",
   "metadata": {
    "colab_type": "text",
    "id": "GPfKLQ8e817M"
   },
   "source": [
    "### **Evaluation Criteria**\n",
    "* You get **full marks** if you make a successful submission. It's that simple!"
   ]
  }
 ],
 "metadata": {
  "colab": {
   "collapsed_sections": [],
   "name": "Yash_Gandhi_Assignment-04.ipynb",
   "provenance": []
  },
  "kernelspec": {
   "display_name": "Python 3",
   "language": "python",
   "name": "python3"
  },
  "language_info": {
   "codemirror_mode": {
    "name": "ipython",
    "version": 3
   },
   "file_extension": ".py",
   "mimetype": "text/x-python",
   "name": "python",
   "nbconvert_exporter": "python",
   "pygments_lexer": "ipython3",
   "version": "3.7.0"
  }
 },
 "nbformat": 4,
 "nbformat_minor": 1
}
