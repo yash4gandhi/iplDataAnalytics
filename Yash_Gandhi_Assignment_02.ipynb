{
 "cells": [
  {
   "cell_type": "markdown",
   "metadata": {},
   "source": [
    "<B>Yash Gandhi \n",
    "    <br>IT"
   ]
  },
  {
   "cell_type": "markdown",
   "metadata": {
    "colab_type": "text",
    "id": "vX0mneFv-upN"
   },
   "source": [
    "### **Note :**\n",
    "* You will need the below 3 datasets to work on the questions : \n",
    "  * **ipl_matches.csv**\n",
    "  * **ipl_batting.csv**\n",
    "  * **ipl_deliveries.csv**"
   ]
  },
  {
   "cell_type": "code",
   "execution_count": 1,
   "metadata": {},
   "outputs": [],
   "source": [
    "import numpy as np\n",
    "import pandas as pd\n",
    "from pandas import Series, DataFrame"
   ]
  },
  {
   "cell_type": "code",
   "execution_count": 2,
   "metadata": {},
   "outputs": [],
   "source": [
    "bat = pd.read_csv(\"./ipl_batting.csv\")\n",
    "dlv = pd.read_csv(\"./ipl_deliveries.csv\")\n",
    "mat = pd.read_csv(\"./ipl_matches.csv\")"
   ]
  },
  {
   "cell_type": "code",
   "execution_count": 5,
   "metadata": {},
   "outputs": [
    {
     "data": {
      "text/plain": [
       "Mumbai                  96\n",
       "Kolkata                 78\n",
       "Delhi                   75\n",
       "Bengaluru               69\n",
       "Hyderabad (Deccan)      57\n",
       "Chennai                 57\n",
       "Jaipur                  47\n",
       "Mohali                  44\n",
       "Pune                    38\n",
       "Durban                  16\n",
       "Bengaluru, Bangalore    14\n",
       "Visakhapatnam           13\n",
       "Centurion               12\n",
       "Ahmedabad               11\n",
       "Mohali, Chandigarh      11\n",
       "Cuttack                 10\n",
       "Rajkot                  10\n",
       "Dharamsala               9\n",
       "Indore                   9\n",
       "Johannesburg             8\n",
       "Cape Town                8\n",
       "Ranchi                   7\n",
       "Dubai (DSC)              7\n",
       "Port Elizabeth           7\n",
       "Abu Dhabi                7\n",
       "Hyderabad                7\n",
       "Sharjah                  6\n",
       "Raipur                   6\n",
       "Kochi                    5\n",
       "Mumbai (BS)              4\n",
       "Kanpur                   4\n",
       "East London              3\n",
       "Kimberley                3\n",
       "Nagpur                   3\n",
       "Bloemfontein             2\n",
       "Name: Ground, dtype: int64"
      ]
     },
     "execution_count": 5,
     "metadata": {},
     "output_type": "execute_result"
    }
   ],
   "source": [
    "mat['Ground'].value_counts()"
   ]
  },
  {
   "cell_type": "markdown",
   "metadata": {
    "colab_type": "text",
    "id": "kVRYiJzvvP62"
   },
   "source": [
    "### **Question 1**\n",
    "Write **Python** code for the following\n",
    "* Read the **ipl_matches.csv** dataset\n",
    "* Display **data-type** of each column\n",
    "* Define **granularity** for the dataset **ipl_matches**\n",
    "* Write code to create a **primary key** as a **new column** for the dataset \n",
    "  * Convert match_date into the format **YYYYMMDD**\n",
    "  * Depending upon whether the given match is the **1st** of **2nd** for the day, append a string **01 or 02** to the end\n",
    "  * **Ex.** if 2 matches took place on 18-04-2009 then the primary key of the 1st match should look like **2009041801** and second match as **2009041802**\n",
    "--------------------"
   ]
  },
  {
   "cell_type": "code",
   "execution_count": 3,
   "metadata": {
    "colab": {},
    "colab_type": "code",
    "id": "19IRRqQkeBDb"
   },
   "outputs": [
    {
     "name": "stdout",
     "output_type": "stream",
     "text": [
      "<class 'pandas.core.frame.DataFrame'>\n",
      "RangeIndex: 763 entries, 0 to 762\n",
      "Data columns (total 13 columns):\n",
      "match_date       763 non-null object\n",
      "Ground           763 non-null object\n",
      "Team 1           763 non-null object\n",
      "Team 2           763 non-null object\n",
      "Winner           763 non-null object\n",
      "year             763 non-null int64\n",
      "month            763 non-null int64\n",
      "day              763 non-null int64\n",
      "win_mode         743 non-null object\n",
      "margin           763 non-null float64\n",
      "toss_winner      763 non-null object\n",
      "toss_decision    763 non-null object\n",
      "match_no         763 non-null int64\n",
      "dtypes: float64(1), int64(4), object(8)\n",
      "memory usage: 77.6+ KB\n"
     ]
    }
   ],
   "source": [
    "mat.info()"
   ]
  },
  {
   "cell_type": "markdown",
   "metadata": {},
   "source": [
    "<h3> year , month , day , match_no contribute to the granularity of the dataset"
   ]
  },
  {
   "cell_type": "code",
   "execution_count": 4,
   "metadata": {
    "scrolled": true
   },
   "outputs": [
    {
     "data": {
      "text/plain": [
       "0    2008-04-18\n",
       "1    2008-04-19\n",
       "2    2008-04-19\n",
       "3    2008-04-20\n",
       "4    2008-04-20\n",
       "Name: match_date, dtype: object"
      ]
     },
     "execution_count": 4,
     "metadata": {},
     "output_type": "execute_result"
    }
   ],
   "source": [
    "mat['match_date'].head()"
   ]
  },
  {
   "cell_type": "code",
   "execution_count": 5,
   "metadata": {},
   "outputs": [],
   "source": [
    "mat['new_date']=mat.match_date.str.replace('-','')"
   ]
  },
  {
   "cell_type": "code",
   "execution_count": 6,
   "metadata": {},
   "outputs": [
    {
     "data": {
      "text/html": [
       "<div>\n",
       "<style scoped>\n",
       "    .dataframe tbody tr th:only-of-type {\n",
       "        vertical-align: middle;\n",
       "    }\n",
       "\n",
       "    .dataframe tbody tr th {\n",
       "        vertical-align: top;\n",
       "    }\n",
       "\n",
       "    .dataframe thead th {\n",
       "        text-align: right;\n",
       "    }\n",
       "</style>\n",
       "<table border=\"1\" class=\"dataframe\">\n",
       "  <thead>\n",
       "    <tr style=\"text-align: right;\">\n",
       "      <th></th>\n",
       "      <th>match_date</th>\n",
       "      <th>Ground</th>\n",
       "      <th>Team 1</th>\n",
       "      <th>Team 2</th>\n",
       "      <th>Winner</th>\n",
       "      <th>year</th>\n",
       "      <th>month</th>\n",
       "      <th>day</th>\n",
       "      <th>win_mode</th>\n",
       "      <th>margin</th>\n",
       "      <th>toss_winner</th>\n",
       "      <th>toss_decision</th>\n",
       "      <th>match_no</th>\n",
       "      <th>new_date</th>\n",
       "    </tr>\n",
       "  </thead>\n",
       "  <tbody>\n",
       "    <tr>\n",
       "      <th>0</th>\n",
       "      <td>2008-04-18</td>\n",
       "      <td>Bengaluru, Bangalore</td>\n",
       "      <td>Royal Challengers Bangalore</td>\n",
       "      <td>Kolkata Knight Riders</td>\n",
       "      <td>Kolkata Knight Riders</td>\n",
       "      <td>2008</td>\n",
       "      <td>4</td>\n",
       "      <td>18</td>\n",
       "      <td>Runs</td>\n",
       "      <td>140.0</td>\n",
       "      <td>Royal Challengers Bangalore</td>\n",
       "      <td>field first</td>\n",
       "      <td>1</td>\n",
       "      <td>20080418</td>\n",
       "    </tr>\n",
       "    <tr>\n",
       "      <th>1</th>\n",
       "      <td>2008-04-19</td>\n",
       "      <td>Mohali, Chandigarh</td>\n",
       "      <td>Kings XI Punjab</td>\n",
       "      <td>Chennai Super Kings</td>\n",
       "      <td>Chennai Super Kings</td>\n",
       "      <td>2008</td>\n",
       "      <td>4</td>\n",
       "      <td>19</td>\n",
       "      <td>Runs</td>\n",
       "      <td>33.0</td>\n",
       "      <td>Chennai Super Kings</td>\n",
       "      <td>bat first</td>\n",
       "      <td>2</td>\n",
       "      <td>20080419</td>\n",
       "    </tr>\n",
       "    <tr>\n",
       "      <th>2</th>\n",
       "      <td>2008-04-19</td>\n",
       "      <td>Delhi</td>\n",
       "      <td>Delhi Capitals</td>\n",
       "      <td>Rajasthan Royals</td>\n",
       "      <td>Delhi Capitals</td>\n",
       "      <td>2008</td>\n",
       "      <td>4</td>\n",
       "      <td>19</td>\n",
       "      <td>Wickets</td>\n",
       "      <td>9.0</td>\n",
       "      <td>Rajasthan Royals</td>\n",
       "      <td>bat first</td>\n",
       "      <td>3</td>\n",
       "      <td>20080419</td>\n",
       "    </tr>\n",
       "    <tr>\n",
       "      <th>3</th>\n",
       "      <td>2008-04-20</td>\n",
       "      <td>Kolkata</td>\n",
       "      <td>Kolkata Knight Riders</td>\n",
       "      <td>Deccan Chargers</td>\n",
       "      <td>Kolkata Knight Riders</td>\n",
       "      <td>2008</td>\n",
       "      <td>4</td>\n",
       "      <td>20</td>\n",
       "      <td>Wickets</td>\n",
       "      <td>5.0</td>\n",
       "      <td>Deccan Chargers</td>\n",
       "      <td>bat first</td>\n",
       "      <td>4</td>\n",
       "      <td>20080420</td>\n",
       "    </tr>\n",
       "    <tr>\n",
       "      <th>4</th>\n",
       "      <td>2008-04-20</td>\n",
       "      <td>Mumbai</td>\n",
       "      <td>Mumbai Indians</td>\n",
       "      <td>Royal Challengers Bangalore</td>\n",
       "      <td>Royal Challengers Bangalore</td>\n",
       "      <td>2008</td>\n",
       "      <td>4</td>\n",
       "      <td>20</td>\n",
       "      <td>Wickets</td>\n",
       "      <td>5.0</td>\n",
       "      <td>Mumbai Indians</td>\n",
       "      <td>bat first</td>\n",
       "      <td>5</td>\n",
       "      <td>20080420</td>\n",
       "    </tr>\n",
       "  </tbody>\n",
       "</table>\n",
       "</div>"
      ],
      "text/plain": [
       "   match_date                Ground                       Team 1  \\\n",
       "0  2008-04-18  Bengaluru, Bangalore  Royal Challengers Bangalore   \n",
       "1  2008-04-19    Mohali, Chandigarh              Kings XI Punjab   \n",
       "2  2008-04-19                 Delhi               Delhi Capitals   \n",
       "3  2008-04-20               Kolkata        Kolkata Knight Riders   \n",
       "4  2008-04-20                Mumbai               Mumbai Indians   \n",
       "\n",
       "                        Team 2                       Winner  year  month  day  \\\n",
       "0        Kolkata Knight Riders        Kolkata Knight Riders  2008      4   18   \n",
       "1          Chennai Super Kings          Chennai Super Kings  2008      4   19   \n",
       "2             Rajasthan Royals               Delhi Capitals  2008      4   19   \n",
       "3              Deccan Chargers        Kolkata Knight Riders  2008      4   20   \n",
       "4  Royal Challengers Bangalore  Royal Challengers Bangalore  2008      4   20   \n",
       "\n",
       "  win_mode  margin                  toss_winner toss_decision  match_no  \\\n",
       "0     Runs   140.0  Royal Challengers Bangalore   field first         1   \n",
       "1     Runs    33.0          Chennai Super Kings     bat first         2   \n",
       "2  Wickets     9.0             Rajasthan Royals     bat first         3   \n",
       "3  Wickets     5.0              Deccan Chargers     bat first         4   \n",
       "4  Wickets     5.0               Mumbai Indians     bat first         5   \n",
       "\n",
       "   new_date  \n",
       "0  20080418  \n",
       "1  20080419  \n",
       "2  20080419  \n",
       "3  20080420  \n",
       "4  20080420  "
      ]
     },
     "execution_count": 6,
     "metadata": {},
     "output_type": "execute_result"
    }
   ],
   "source": [
    "mat.head()"
   ]
  },
  {
   "cell_type": "code",
   "execution_count": 7,
   "metadata": {},
   "outputs": [],
   "source": [
    "mat['primary_key']=''"
   ]
  },
  {
   "cell_type": "code",
   "execution_count": 8,
   "metadata": {},
   "outputs": [],
   "source": [
    "for i in range(0,len(mat)):\n",
    "    t='01'\n",
    "    p='02'\n",
    "    if i == 0:\n",
    "            string=mat.loc[i,'new_date']\n",
    "            mat.loc[i, 'primary_key'] = string+t\n",
    "    else:\n",
    "        \n",
    "        if  mat.loc[i, 'new_date'] == mat.loc[i-1, 'new_date']:\n",
    "            string=mat.loc[i,'new_date']\n",
    "            mat.loc[i, 'primary_key'] = string+p\n",
    "        else:\n",
    "            string=mat.loc[i,'new_date']\n",
    "            mat.loc[i, 'primary_key'] = string+t"
   ]
  },
  {
   "cell_type": "code",
   "execution_count": 9,
   "metadata": {
    "scrolled": false
   },
   "outputs": [
    {
     "data": {
      "text/html": [
       "<div>\n",
       "<style scoped>\n",
       "    .dataframe tbody tr th:only-of-type {\n",
       "        vertical-align: middle;\n",
       "    }\n",
       "\n",
       "    .dataframe tbody tr th {\n",
       "        vertical-align: top;\n",
       "    }\n",
       "\n",
       "    .dataframe thead th {\n",
       "        text-align: right;\n",
       "    }\n",
       "</style>\n",
       "<table border=\"1\" class=\"dataframe\">\n",
       "  <thead>\n",
       "    <tr style=\"text-align: right;\">\n",
       "      <th></th>\n",
       "      <th>match_date</th>\n",
       "      <th>Ground</th>\n",
       "      <th>Team 1</th>\n",
       "      <th>Team 2</th>\n",
       "      <th>Winner</th>\n",
       "      <th>year</th>\n",
       "      <th>month</th>\n",
       "      <th>day</th>\n",
       "      <th>win_mode</th>\n",
       "      <th>margin</th>\n",
       "      <th>toss_winner</th>\n",
       "      <th>toss_decision</th>\n",
       "      <th>match_no</th>\n",
       "      <th>new_date</th>\n",
       "      <th>primary_key</th>\n",
       "    </tr>\n",
       "  </thead>\n",
       "  <tbody>\n",
       "    <tr>\n",
       "      <th>0</th>\n",
       "      <td>2008-04-18</td>\n",
       "      <td>Bengaluru, Bangalore</td>\n",
       "      <td>Royal Challengers Bangalore</td>\n",
       "      <td>Kolkata Knight Riders</td>\n",
       "      <td>Kolkata Knight Riders</td>\n",
       "      <td>2008</td>\n",
       "      <td>4</td>\n",
       "      <td>18</td>\n",
       "      <td>Runs</td>\n",
       "      <td>140.0</td>\n",
       "      <td>Royal Challengers Bangalore</td>\n",
       "      <td>field first</td>\n",
       "      <td>1</td>\n",
       "      <td>20080418</td>\n",
       "      <td>2008041801</td>\n",
       "    </tr>\n",
       "    <tr>\n",
       "      <th>1</th>\n",
       "      <td>2008-04-19</td>\n",
       "      <td>Mohali, Chandigarh</td>\n",
       "      <td>Kings XI Punjab</td>\n",
       "      <td>Chennai Super Kings</td>\n",
       "      <td>Chennai Super Kings</td>\n",
       "      <td>2008</td>\n",
       "      <td>4</td>\n",
       "      <td>19</td>\n",
       "      <td>Runs</td>\n",
       "      <td>33.0</td>\n",
       "      <td>Chennai Super Kings</td>\n",
       "      <td>bat first</td>\n",
       "      <td>2</td>\n",
       "      <td>20080419</td>\n",
       "      <td>2008041901</td>\n",
       "    </tr>\n",
       "    <tr>\n",
       "      <th>2</th>\n",
       "      <td>2008-04-19</td>\n",
       "      <td>Delhi</td>\n",
       "      <td>Delhi Capitals</td>\n",
       "      <td>Rajasthan Royals</td>\n",
       "      <td>Delhi Capitals</td>\n",
       "      <td>2008</td>\n",
       "      <td>4</td>\n",
       "      <td>19</td>\n",
       "      <td>Wickets</td>\n",
       "      <td>9.0</td>\n",
       "      <td>Rajasthan Royals</td>\n",
       "      <td>bat first</td>\n",
       "      <td>3</td>\n",
       "      <td>20080419</td>\n",
       "      <td>2008041902</td>\n",
       "    </tr>\n",
       "    <tr>\n",
       "      <th>3</th>\n",
       "      <td>2008-04-20</td>\n",
       "      <td>Kolkata</td>\n",
       "      <td>Kolkata Knight Riders</td>\n",
       "      <td>Deccan Chargers</td>\n",
       "      <td>Kolkata Knight Riders</td>\n",
       "      <td>2008</td>\n",
       "      <td>4</td>\n",
       "      <td>20</td>\n",
       "      <td>Wickets</td>\n",
       "      <td>5.0</td>\n",
       "      <td>Deccan Chargers</td>\n",
       "      <td>bat first</td>\n",
       "      <td>4</td>\n",
       "      <td>20080420</td>\n",
       "      <td>2008042001</td>\n",
       "    </tr>\n",
       "    <tr>\n",
       "      <th>4</th>\n",
       "      <td>2008-04-20</td>\n",
       "      <td>Mumbai</td>\n",
       "      <td>Mumbai Indians</td>\n",
       "      <td>Royal Challengers Bangalore</td>\n",
       "      <td>Royal Challengers Bangalore</td>\n",
       "      <td>2008</td>\n",
       "      <td>4</td>\n",
       "      <td>20</td>\n",
       "      <td>Wickets</td>\n",
       "      <td>5.0</td>\n",
       "      <td>Mumbai Indians</td>\n",
       "      <td>bat first</td>\n",
       "      <td>5</td>\n",
       "      <td>20080420</td>\n",
       "      <td>2008042002</td>\n",
       "    </tr>\n",
       "  </tbody>\n",
       "</table>\n",
       "</div>"
      ],
      "text/plain": [
       "   match_date                Ground                       Team 1  \\\n",
       "0  2008-04-18  Bengaluru, Bangalore  Royal Challengers Bangalore   \n",
       "1  2008-04-19    Mohali, Chandigarh              Kings XI Punjab   \n",
       "2  2008-04-19                 Delhi               Delhi Capitals   \n",
       "3  2008-04-20               Kolkata        Kolkata Knight Riders   \n",
       "4  2008-04-20                Mumbai               Mumbai Indians   \n",
       "\n",
       "                        Team 2                       Winner  year  month  day  \\\n",
       "0        Kolkata Knight Riders        Kolkata Knight Riders  2008      4   18   \n",
       "1          Chennai Super Kings          Chennai Super Kings  2008      4   19   \n",
       "2             Rajasthan Royals               Delhi Capitals  2008      4   19   \n",
       "3              Deccan Chargers        Kolkata Knight Riders  2008      4   20   \n",
       "4  Royal Challengers Bangalore  Royal Challengers Bangalore  2008      4   20   \n",
       "\n",
       "  win_mode  margin                  toss_winner toss_decision  match_no  \\\n",
       "0     Runs   140.0  Royal Challengers Bangalore   field first         1   \n",
       "1     Runs    33.0          Chennai Super Kings     bat first         2   \n",
       "2  Wickets     9.0             Rajasthan Royals     bat first         3   \n",
       "3  Wickets     5.0              Deccan Chargers     bat first         4   \n",
       "4  Wickets     5.0               Mumbai Indians     bat first         5   \n",
       "\n",
       "   new_date primary_key  \n",
       "0  20080418  2008041801  \n",
       "1  20080419  2008041901  \n",
       "2  20080419  2008041902  \n",
       "3  20080420  2008042001  \n",
       "4  20080420  2008042002  "
      ]
     },
     "execution_count": 9,
     "metadata": {},
     "output_type": "execute_result"
    }
   ],
   "source": [
    "mat.head()"
   ]
  },
  {
   "cell_type": "markdown",
   "metadata": {
    "colab_type": "text",
    "id": "34Cmk_TSrYQJ"
   },
   "source": [
    "### **Question 2** \n",
    "Let's look at the below statement : <br>\n",
    "**It is said that you win half the match if you win the toss** <br><br>\n",
    "So, let's understand to what extent teams who **won the toss** also **won the matches**\n",
    "  * Write code to find out **% matches by team** (across all seasons) where they **won the toss**\n",
    "  * What **% of matches** which the teams **won the toss also ended up winning the matches**?\n",
    "  * Exhibit the above as a **% of total matches**\n",
    "  * Which team tops the chart? Meaning which team took full advantage of the opportunity of winning the toss\n",
    "\n",
    "**Ex :** If CSK played a total of **100** matches and won toss in **70** of them. This would mean **70%** of tosses were won by them. Now, if out of these 70 they ended up winning **28** of them then they won **40%** of the matches where they had won the toss. This is **28%** of total matches"
   ]
  },
  {
   "cell_type": "code",
   "execution_count": 10,
   "metadata": {},
   "outputs": [
    {
     "data": {
      "text/plain": [
       "Mumbai Indians                 101\n",
       "Kolkata Knight Riders           94\n",
       "Kings XI Punjab                 88\n",
       "Delhi Capitals                  86\n",
       "Rajasthan Royals                84\n",
       "Royal Challengers Bangalore     82\n",
       "Chennai Super Kings             75\n",
       "Sunrisers Hyderabad             56\n",
       "Deccan Chargers                 37\n",
       "Pune Warriors                   23\n",
       "Rising Pune Supergiant          16\n",
       "Gujarat Lions                   14\n",
       "Kochi Tuskers Kerala             7\n",
       "Name: Team 2, dtype: int64"
      ]
     },
     "execution_count": 10,
     "metadata": {},
     "output_type": "execute_result"
    }
   ],
   "source": [
    "mat['Team 2'].value_counts()"
   ]
  },
  {
   "cell_type": "code",
   "execution_count": 11,
   "metadata": {},
   "outputs": [],
   "source": [
    "mat=mat.replace({'toss_winner':{'Rising Pune Supergiants':'Rising Pune Supergiant'}})"
   ]
  },
  {
   "cell_type": "code",
   "execution_count": 12,
   "metadata": {},
   "outputs": [
    {
     "data": {
      "text/plain": [
       "array(['Kolkata Knight Riders', 'Chennai Super Kings', 'Rajasthan Royals',\n",
       "       'Deccan Chargers', 'Royal Challengers Bangalore',\n",
       "       'Kings XI Punjab', 'Delhi Capitals', 'Mumbai Indians',\n",
       "       'Kochi Tuskers Kerala', 'Pune Warriors', 'Sunrisers Hyderabad',\n",
       "       'Rising Pune Supergiant', 'Gujarat Lions'], dtype=object)"
      ]
     },
     "execution_count": 12,
     "metadata": {},
     "output_type": "execute_result"
    }
   ],
   "source": [
    "mat['Team 2'].unique()"
   ]
  },
  {
   "cell_type": "code",
   "execution_count": 13,
   "metadata": {},
   "outputs": [],
   "source": [
    "team=mat['Team 1'].unique().tolist()"
   ]
  },
  {
   "cell_type": "code",
   "execution_count": 14,
   "metadata": {},
   "outputs": [],
   "source": [
    "dfnew = pd.DataFrame(columns=['Team', 'Matches', 'Won','%Won','Toss_won','%Toss_won','Won_match_&_toss',\n",
    "                             '%Won_match_&_toss/Toss_won','%Won_match_&_toss/won','%Won_match_&_toss/Matches'])\n"
   ]
  },
  {
   "cell_type": "code",
   "execution_count": 15,
   "metadata": {},
   "outputs": [],
   "source": [
    "for x in team:\n",
    "    num=len(mat[(mat['Team 1'] == x) | (mat['Team 2'] == x)])\n",
    "    toss=len(mat[mat['toss_winner'] == x])\n",
    "    winner_withtoss=len(mat[(mat['toss_winner'] == x) & (mat['Winner'] == x)])\n",
    "    winner=len(mat[mat['Winner']==x])\n",
    "    \n",
    "    wintoss=round(toss/num*100,2)\n",
    "    win_mat_toss=round(winner_withtoss/toss*100,2)\n",
    "    win_with_toss_percent= round(winner_withtoss/winner*100,2)\n",
    "    win_mat=round(winner/num*100,2)    \n",
    "    total  =round(winner_withtoss/num*100,2)\n",
    "        \n",
    "    dfnew = dfnew.append({'Team' : x, 'Matches' : num, 'Won' :winner,'%Won':win_mat,'Toss_won' : toss,'%Toss_won' : wintoss,\n",
    "                          'Won_match_&_toss':winner_withtoss,'%Won_match_&_toss/Toss_won':win_mat_toss,'%Won_match_&_toss/won':win_with_toss_percent,'%Won_match_&_toss/Matches':total}, ignore_index=True)\n",
    "\n",
    "dfnew= dfnew.sort_values(by = '%Won_match_&_toss/Toss_won' , ascending = False)    "
   ]
  },
  {
   "cell_type": "code",
   "execution_count": 16,
   "metadata": {},
   "outputs": [
    {
     "data": {
      "text/html": [
       "<div>\n",
       "<style scoped>\n",
       "    .dataframe tbody tr th:only-of-type {\n",
       "        vertical-align: middle;\n",
       "    }\n",
       "\n",
       "    .dataframe tbody tr th {\n",
       "        vertical-align: top;\n",
       "    }\n",
       "\n",
       "    .dataframe thead th {\n",
       "        text-align: right;\n",
       "    }\n",
       "</style>\n",
       "<table border=\"1\" class=\"dataframe\">\n",
       "  <thead>\n",
       "    <tr style=\"text-align: right;\">\n",
       "      <th></th>\n",
       "      <th>Team</th>\n",
       "      <th>Matches</th>\n",
       "      <th>Won</th>\n",
       "      <th>%Won</th>\n",
       "      <th>Toss_won</th>\n",
       "      <th>%Toss_won</th>\n",
       "      <th>Won_match_&amp;_toss</th>\n",
       "      <th>%Won_match_&amp;_toss/Toss_won</th>\n",
       "      <th>%Won_match_&amp;_toss/won</th>\n",
       "      <th>%Won_match_&amp;_toss/Matches</th>\n",
       "    </tr>\n",
       "  </thead>\n",
       "  <tbody>\n",
       "    <tr>\n",
       "      <th>11</th>\n",
       "      <td>Gujarat Lions</td>\n",
       "      <td>30</td>\n",
       "      <td>13</td>\n",
       "      <td>43.33</td>\n",
       "      <td>15</td>\n",
       "      <td>50.00</td>\n",
       "      <td>10</td>\n",
       "      <td>66.67</td>\n",
       "      <td>76.92</td>\n",
       "      <td>33.33</td>\n",
       "    </tr>\n",
       "    <tr>\n",
       "      <th>7</th>\n",
       "      <td>Chennai Super Kings</td>\n",
       "      <td>166</td>\n",
       "      <td>100</td>\n",
       "      <td>60.24</td>\n",
       "      <td>89</td>\n",
       "      <td>53.61</td>\n",
       "      <td>57</td>\n",
       "      <td>64.04</td>\n",
       "      <td>57.00</td>\n",
       "      <td>34.34</td>\n",
       "    </tr>\n",
       "    <tr>\n",
       "      <th>12</th>\n",
       "      <td>Rising Pune Supergiant</td>\n",
       "      <td>30</td>\n",
       "      <td>15</td>\n",
       "      <td>50.00</td>\n",
       "      <td>13</td>\n",
       "      <td>43.33</td>\n",
       "      <td>8</td>\n",
       "      <td>61.54</td>\n",
       "      <td>53.33</td>\n",
       "      <td>26.67</td>\n",
       "    </tr>\n",
       "    <tr>\n",
       "      <th>3</th>\n",
       "      <td>Kolkata Knight Riders</td>\n",
       "      <td>181</td>\n",
       "      <td>91</td>\n",
       "      <td>50.28</td>\n",
       "      <td>92</td>\n",
       "      <td>50.83</td>\n",
       "      <td>53</td>\n",
       "      <td>57.61</td>\n",
       "      <td>58.24</td>\n",
       "      <td>29.28</td>\n",
       "    </tr>\n",
       "  </tbody>\n",
       "</table>\n",
       "</div>"
      ],
      "text/plain": [
       "                      Team Matches  Won   %Won Toss_won  %Toss_won  \\\n",
       "11           Gujarat Lions      30   13  43.33       15      50.00   \n",
       "7      Chennai Super Kings     166  100  60.24       89      53.61   \n",
       "12  Rising Pune Supergiant      30   15  50.00       13      43.33   \n",
       "3    Kolkata Knight Riders     181   91  50.28       92      50.83   \n",
       "\n",
       "   Won_match_&_toss  %Won_match_&_toss/Toss_won  %Won_match_&_toss/won  \\\n",
       "11               10                       66.67                  76.92   \n",
       "7                57                       64.04                  57.00   \n",
       "12                8                       61.54                  53.33   \n",
       "3                53                       57.61                  58.24   \n",
       "\n",
       "    %Won_match_&_toss/Matches  \n",
       "11                      33.33  \n",
       "7                       34.34  \n",
       "12                      26.67  \n",
       "3                       29.28  "
      ]
     },
     "execution_count": 16,
     "metadata": {},
     "output_type": "execute_result"
    }
   ],
   "source": [
    "dfnew.head(4)"
   ]
  },
  {
   "cell_type": "markdown",
   "metadata": {},
   "source": [
    "<h3> From the above analysis it can be seen that Gujarat Lions, Chennai Super Kings and Rising Super Giants took the full advantage of winning the toss. <br> <br>The column '%Won_match_&_toss/Toss_won' Gives the %of matches won when the team has won the toss"
   ]
  },
  {
   "cell_type": "code",
   "execution_count": null,
   "metadata": {},
   "outputs": [],
   "source": []
  },
  {
   "cell_type": "markdown",
   "metadata": {
    "colab_type": "text",
    "id": "rRFujfeQo6cm"
   },
   "source": [
    "### **Question 3** \n",
    "* List the names of the **top 10 batsmen** by total runs accumulated across all the seasons\n",
    "  * The output should be stored in a list\n",
    "\n",
    "--------------------------\n",
    "\n"
   ]
  },
  {
   "cell_type": "code",
   "execution_count": 17,
   "metadata": {},
   "outputs": [],
   "source": [
    "new_df = bat.groupby(['batsmen'], sort=True).sum().reset_index()\n"
   ]
  },
  {
   "cell_type": "code",
   "execution_count": 18,
   "metadata": {},
   "outputs": [],
   "source": [
    "new_df = new_df.sort_values(by = 'R', ascending = False)"
   ]
  },
  {
   "cell_type": "code",
   "execution_count": 19,
   "metadata": {},
   "outputs": [
    {
     "data": {
      "text/html": [
       "<div>\n",
       "<style scoped>\n",
       "    .dataframe tbody tr th:only-of-type {\n",
       "        vertical-align: middle;\n",
       "    }\n",
       "\n",
       "    .dataframe tbody tr th {\n",
       "        vertical-align: top;\n",
       "    }\n",
       "\n",
       "    .dataframe thead th {\n",
       "        text-align: right;\n",
       "    }\n",
       "</style>\n",
       "<table border=\"1\" class=\"dataframe\">\n",
       "  <thead>\n",
       "    <tr style=\"text-align: right;\">\n",
       "      <th></th>\n",
       "      <th>batsmen</th>\n",
       "      <th>R</th>\n",
       "      <th>B</th>\n",
       "      <th>M</th>\n",
       "      <th>fours</th>\n",
       "      <th>sixes</th>\n",
       "      <th>SR</th>\n",
       "      <th>is_fielder_involved</th>\n",
       "    </tr>\n",
       "  </thead>\n",
       "  <tbody>\n",
       "    <tr>\n",
       "      <th>487</th>\n",
       "      <td>V Kohli</td>\n",
       "      <td>5412.0</td>\n",
       "      <td>4112.0</td>\n",
       "      <td>4225.0</td>\n",
       "      <td>480.0</td>\n",
       "      <td>190.0</td>\n",
       "      <td>20030.77</td>\n",
       "      <td>100</td>\n",
       "    </tr>\n",
       "    <tr>\n",
       "      <th>424</th>\n",
       "      <td>SK Raina</td>\n",
       "      <td>5368.0</td>\n",
       "      <td>3915.0</td>\n",
       "      <td>3645.0</td>\n",
       "      <td>493.0</td>\n",
       "      <td>194.0</td>\n",
       "      <td>22585.81</td>\n",
       "      <td>126</td>\n",
       "    </tr>\n",
       "    <tr>\n",
       "      <th>366</th>\n",
       "      <td>RG Sharma</td>\n",
       "      <td>4898.0</td>\n",
       "      <td>3744.0</td>\n",
       "      <td>3665.0</td>\n",
       "      <td>431.0</td>\n",
       "      <td>194.0</td>\n",
       "      <td>20495.90</td>\n",
       "      <td>112</td>\n",
       "    </tr>\n",
       "    <tr>\n",
       "      <th>113</th>\n",
       "      <td>DA Warner</td>\n",
       "      <td>4706.0</td>\n",
       "      <td>3305.0</td>\n",
       "      <td>3929.0</td>\n",
       "      <td>458.0</td>\n",
       "      <td>181.0</td>\n",
       "      <td>15653.18</td>\n",
       "      <td>75</td>\n",
       "    </tr>\n",
       "    <tr>\n",
       "      <th>393</th>\n",
       "      <td>S Dhawan</td>\n",
       "      <td>4579.0</td>\n",
       "      <td>3669.0</td>\n",
       "      <td>3987.0</td>\n",
       "      <td>524.0</td>\n",
       "      <td>96.0</td>\n",
       "      <td>17638.07</td>\n",
       "      <td>87</td>\n",
       "    </tr>\n",
       "  </tbody>\n",
       "</table>\n",
       "</div>"
      ],
      "text/plain": [
       "       batsmen       R       B       M  fours  sixes        SR  \\\n",
       "487    V Kohli  5412.0  4112.0  4225.0  480.0  190.0  20030.77   \n",
       "424   SK Raina  5368.0  3915.0  3645.0  493.0  194.0  22585.81   \n",
       "366  RG Sharma  4898.0  3744.0  3665.0  431.0  194.0  20495.90   \n",
       "113  DA Warner  4706.0  3305.0  3929.0  458.0  181.0  15653.18   \n",
       "393   S Dhawan  4579.0  3669.0  3987.0  524.0   96.0  17638.07   \n",
       "\n",
       "     is_fielder_involved  \n",
       "487                  100  \n",
       "424                  126  \n",
       "366                  112  \n",
       "113                   75  \n",
       "393                   87  "
      ]
     },
     "execution_count": 19,
     "metadata": {},
     "output_type": "execute_result"
    }
   ],
   "source": [
    "new_df.head()"
   ]
  },
  {
   "cell_type": "code",
   "execution_count": 20,
   "metadata": {},
   "outputs": [],
   "source": [
    "blist=new_df['batsmen'].head(10).tolist()"
   ]
  },
  {
   "cell_type": "code",
   "execution_count": 21,
   "metadata": {},
   "outputs": [
    {
     "data": {
      "text/plain": [
       "['V Kohli',\n",
       " 'SK Raina',\n",
       " 'RG Sharma',\n",
       " 'DA Warner',\n",
       " 'S Dhawan',\n",
       " 'CH Gayle',\n",
       " 'MS Dhoni',\n",
       " 'RV Uthappa',\n",
       " 'AB de Villiers',\n",
       " 'G Gambhir']"
      ]
     },
     "execution_count": 21,
     "metadata": {},
     "output_type": "execute_result"
    }
   ],
   "source": [
    "blist"
   ]
  },
  {
   "cell_type": "code",
   "execution_count": null,
   "metadata": {},
   "outputs": [],
   "source": []
  },
  {
   "cell_type": "markdown",
   "metadata": {
    "colab_type": "text",
    "id": "UaxvhQeapUie"
   },
   "source": [
    "### **Question 4**\n",
    "* Visualize the **runs made vs balls faced** in a jointplot. You should do this for all batsmen who batted in the **IPL season 2017**\n",
    "\n",
    "--------------------"
   ]
  },
  {
   "cell_type": "code",
   "execution_count": 22,
   "metadata": {
    "colab": {},
    "colab_type": "code",
    "id": "zIrpZ_ds3w-D"
   },
   "outputs": [],
   "source": [
    "bat['match_date'] = pd.to_datetime(bat['match_date'], errors='coerce')\n"
   ]
  },
  {
   "cell_type": "code",
   "execution_count": 23,
   "metadata": {},
   "outputs": [],
   "source": [
    "bat['day'] = bat['match_date'].dt.day\n",
    "bat['month'] = bat['match_date'].dt.month\n",
    "bat['year'] = bat['match_date'].dt.year"
   ]
  },
  {
   "cell_type": "code",
   "execution_count": 24,
   "metadata": {},
   "outputs": [],
   "source": [
    "df4=bat[bat.year ==  2017]"
   ]
  },
  {
   "cell_type": "code",
   "execution_count": 25,
   "metadata": {},
   "outputs": [],
   "source": [
    "new_df4 =df4.groupby(['batsmen'], sort=True).sum().reset_index()\n",
    "new_df4 = new_df4.sort_values(by = 'R', ascending = False)\n"
   ]
  },
  {
   "cell_type": "code",
   "execution_count": 26,
   "metadata": {},
   "outputs": [
    {
     "data": {
      "text/html": [
       "<div>\n",
       "<style scoped>\n",
       "    .dataframe tbody tr th:only-of-type {\n",
       "        vertical-align: middle;\n",
       "    }\n",
       "\n",
       "    .dataframe tbody tr th {\n",
       "        vertical-align: top;\n",
       "    }\n",
       "\n",
       "    .dataframe thead th {\n",
       "        text-align: right;\n",
       "    }\n",
       "</style>\n",
       "<table border=\"1\" class=\"dataframe\">\n",
       "  <thead>\n",
       "    <tr style=\"text-align: right;\">\n",
       "      <th></th>\n",
       "      <th>batsmen</th>\n",
       "      <th>R</th>\n",
       "      <th>B</th>\n",
       "    </tr>\n",
       "  </thead>\n",
       "  <tbody>\n",
       "    <tr>\n",
       "      <th>35</th>\n",
       "      <td>DA Warner</td>\n",
       "      <td>641.0</td>\n",
       "      <td>452.0</td>\n",
       "    </tr>\n",
       "    <tr>\n",
       "      <th>44</th>\n",
       "      <td>G Gambhir</td>\n",
       "      <td>498.0</td>\n",
       "      <td>389.0</td>\n",
       "    </tr>\n",
       "    <tr>\n",
       "      <th>108</th>\n",
       "      <td>S Dhawan</td>\n",
       "      <td>479.0</td>\n",
       "      <td>376.0</td>\n",
       "    </tr>\n",
       "    <tr>\n",
       "      <th>118</th>\n",
       "      <td>SPD Smith</td>\n",
       "      <td>472.0</td>\n",
       "      <td>387.0</td>\n",
       "    </tr>\n",
       "    <tr>\n",
       "      <th>113</th>\n",
       "      <td>SK Raina</td>\n",
       "      <td>442.0</td>\n",
       "      <td>307.0</td>\n",
       "    </tr>\n",
       "  </tbody>\n",
       "</table>\n",
       "</div>"
      ],
      "text/plain": [
       "       batsmen      R      B\n",
       "35   DA Warner  641.0  452.0\n",
       "44   G Gambhir  498.0  389.0\n",
       "108   S Dhawan  479.0  376.0\n",
       "118  SPD Smith  472.0  387.0\n",
       "113   SK Raina  442.0  307.0"
      ]
     },
     "execution_count": 26,
     "metadata": {},
     "output_type": "execute_result"
    }
   ],
   "source": [
    "new_df4[['batsmen','R','B']].head()"
   ]
  },
  {
   "cell_type": "code",
   "execution_count": 27,
   "metadata": {},
   "outputs": [],
   "source": [
    "import matplotlib as mpl\n",
    "import matplotlib.pyplot as plt\n",
    "import seaborn as sns"
   ]
  },
  {
   "cell_type": "code",
   "execution_count": 28,
   "metadata": {},
   "outputs": [],
   "source": [
    "d1=new_df4['R']\n",
    "d2 = new_df4['B']"
   ]
  },
  {
   "cell_type": "code",
   "execution_count": 29,
   "metadata": {},
   "outputs": [
    {
     "name": "stderr",
     "output_type": "stream",
     "text": [
      "C:\\Users\\Anu\\Anaconda3\\lib\\site-packages\\scipy\\stats\\stats.py:1713: FutureWarning: Using a non-tuple sequence for multidimensional indexing is deprecated; use `arr[tuple(seq)]` instead of `arr[seq]`. In the future this will be interpreted as an array index, `arr[np.array(seq)]`, which will result either in an error or a different result.\n",
      "  return np.add.reduce(sorted[indexer] * weights, axis=axis) / sumval\n"
     ]
    },
    {
     "data": {
      "text/plain": [
       "Text(0.5,1.3,'Joint plot for Runs vs Balls for season 2017')"
      ]
     },
     "execution_count": 29,
     "metadata": {},
     "output_type": "execute_result"
    },
    {
     "data": {
      "image/png": "[encoded data removed]",
      "text/plain": [
       "<Figure size 432x432 with 3 Axes>"
      ]
     },
     "metadata": {
      "needs_background": "light"
     },
     "output_type": "display_data"
    }
   ],
   "source": [
    "sns.jointplot(d2,d1,color='orange')\n",
    "plt.title('Joint plot for Runs vs Balls for season 2017', y=1.3, fontsize = 16)"
   ]
  },
  {
   "cell_type": "markdown",
   "metadata": {},
   "source": [
    "<h3> We can observe that it is almost a linear relation for R vs B "
   ]
  },
  {
   "cell_type": "markdown",
   "metadata": {
    "colab_type": "text",
    "id": "lck9W01_pu2n"
   },
   "source": [
    "### **Question 5**\n",
    "* Create a new calculated column called **boundary_contribution**. It is calculated as : **(total runs made in 4s + 6s)/(total runs scored)**\n",
    "* Create a scatter-plot between **boundary_contribution** and **strike_rate** where each dot represents an innings by a batsman\n",
    "* Aggregate **boundary_contribution** by player and list down **top 10** players by boundary_contribution across all seasons\n",
    "---------------------------------"
   ]
  },
  {
   "cell_type": "code",
   "execution_count": 30,
   "metadata": {
    "colab": {},
    "colab_type": "code",
    "id": "46clsyK4GnpM"
   },
   "outputs": [],
   "source": [
    "df5=bat"
   ]
  },
  {
   "cell_type": "code",
   "execution_count": 31,
   "metadata": {},
   "outputs": [],
   "source": [
    "df5['boundary_contribution'] = df5.apply(lambda row:  (row.fours * 4 +row.sixes*6)/row.R if row.R !=0 else 0, axis = 1) "
   ]
  },
  {
   "cell_type": "code",
   "execution_count": 32,
   "metadata": {},
   "outputs": [
    {
     "data": {
      "text/html": [
       "<div>\n",
       "<style scoped>\n",
       "    .dataframe tbody tr th:only-of-type {\n",
       "        vertical-align: middle;\n",
       "    }\n",
       "\n",
       "    .dataframe tbody tr th {\n",
       "        vertical-align: top;\n",
       "    }\n",
       "\n",
       "    .dataframe thead th {\n",
       "        text-align: right;\n",
       "    }\n",
       "</style>\n",
       "<table border=\"1\" class=\"dataframe\">\n",
       "  <thead>\n",
       "    <tr style=\"text-align: right;\">\n",
       "      <th></th>\n",
       "      <th>match_no</th>\n",
       "      <th>team_1</th>\n",
       "      <th>team_2</th>\n",
       "      <th>batsmen</th>\n",
       "      <th>wicket_status</th>\n",
       "      <th>R</th>\n",
       "      <th>B</th>\n",
       "      <th>M</th>\n",
       "      <th>fours</th>\n",
       "      <th>sixes</th>\n",
       "      <th>...</th>\n",
       "      <th>special_role</th>\n",
       "      <th>dismissal_mode</th>\n",
       "      <th>bowler_name</th>\n",
       "      <th>fielder</th>\n",
       "      <th>is_fielder_involved</th>\n",
       "      <th>match_date</th>\n",
       "      <th>day</th>\n",
       "      <th>month</th>\n",
       "      <th>year</th>\n",
       "      <th>boundary_contribution</th>\n",
       "    </tr>\n",
       "  </thead>\n",
       "  <tbody>\n",
       "    <tr>\n",
       "      <th>0</th>\n",
       "      <td>1</td>\n",
       "      <td>Mumbai Indians</td>\n",
       "      <td>Chennai Super Kings</td>\n",
       "      <td>ST Jayasuriya</td>\n",
       "      <td>c Hayden b Thushara</td>\n",
       "      <td>26.0</td>\n",
       "      <td>20.0</td>\n",
       "      <td>0.0</td>\n",
       "      <td>5.0</td>\n",
       "      <td>0.0</td>\n",
       "      <td>...</td>\n",
       "      <td>normal player</td>\n",
       "      <td>caught</td>\n",
       "      <td>Thushara</td>\n",
       "      <td>Hayden</td>\n",
       "      <td>1</td>\n",
       "      <td>2009-04-18</td>\n",
       "      <td>18.0</td>\n",
       "      <td>4.0</td>\n",
       "      <td>2009.0</td>\n",
       "      <td>0.769231</td>\n",
       "    </tr>\n",
       "  </tbody>\n",
       "</table>\n",
       "<p>1 rows × 21 columns</p>\n",
       "</div>"
      ],
      "text/plain": [
       "  match_no          team_1               team_2        batsmen  \\\n",
       "0        1  Mumbai Indians  Chennai Super Kings  ST Jayasuriya   \n",
       "\n",
       "         wicket_status     R     B    M  fours  sixes          ...            \\\n",
       "0  c Hayden b Thushara  26.0  20.0  0.0    5.0    0.0          ...             \n",
       "\n",
       "    special_role dismissal_mode bowler_name fielder is_fielder_involved  \\\n",
       "0  normal player         caught    Thushara  Hayden                   1   \n",
       "\n",
       "   match_date   day  month    year  boundary_contribution  \n",
       "0  2009-04-18  18.0    4.0  2009.0               0.769231  \n",
       "\n",
       "[1 rows x 21 columns]"
      ]
     },
     "execution_count": 32,
     "metadata": {},
     "output_type": "execute_result"
    }
   ],
   "source": [
    "df5.head(1)"
   ]
  },
  {
   "cell_type": "code",
   "execution_count": 33,
   "metadata": {},
   "outputs": [
    {
     "name": "stderr",
     "output_type": "stream",
     "text": [
      "C:\\Users\\Anu\\Anaconda3\\lib\\site-packages\\scipy\\stats\\stats.py:1713: FutureWarning: Using a non-tuple sequence for multidimensional indexing is deprecated; use `arr[tuple(seq)]` instead of `arr[seq]`. In the future this will be interpreted as an array index, `arr[np.array(seq)]`, which will result either in an error or a different result.\n",
      "  return np.add.reduce(sorted[indexer] * weights, axis=axis) / sumval\n"
     ]
    },
    {
     "data": {
      "text/plain": [
       "Text(0.5,1,'Scatter Plot of SR and Boundary contribution')"
      ]
     },
     "execution_count": 33,
     "metadata": {},
     "output_type": "execute_result"
    },
    {
     "data": {
      "image/png": "[encoded data removed]",
      "text/plain": [
       "<Figure size 360x360 with 1 Axes>"
      ]
     },
     "metadata": {
      "needs_background": "light"
     },
     "output_type": "display_data"
    }
   ],
   "source": [
    "sns.lmplot('boundary_contribution','SR', data = df5, fit_reg = True)\n",
    "plt.title('Scatter Plot of SR and Boundary contribution',fontsize=14)"
   ]
  },
  {
   "cell_type": "code",
   "execution_count": 34,
   "metadata": {},
   "outputs": [],
   "source": [
    "new_df5 =df5.groupby(['batsmen'], sort=True).sum().reset_index()"
   ]
  },
  {
   "cell_type": "code",
   "execution_count": 35,
   "metadata": {},
   "outputs": [],
   "source": [
    "new_df5['boundary_contribution'] = new_df5.apply(lambda row:  (row.fours * 4 +row.sixes*6)/row.R if row.R !=0 else 0, axis = 1) "
   ]
  },
  {
   "cell_type": "code",
   "execution_count": 36,
   "metadata": {},
   "outputs": [
    {
     "data": {
      "text/html": [
       "<div>\n",
       "<style scoped>\n",
       "    .dataframe tbody tr th:only-of-type {\n",
       "        vertical-align: middle;\n",
       "    }\n",
       "\n",
       "    .dataframe tbody tr th {\n",
       "        vertical-align: top;\n",
       "    }\n",
       "\n",
       "    .dataframe thead th {\n",
       "        text-align: right;\n",
       "    }\n",
       "</style>\n",
       "<table border=\"1\" class=\"dataframe\">\n",
       "  <thead>\n",
       "    <tr style=\"text-align: right;\">\n",
       "      <th></th>\n",
       "      <th>batsmen</th>\n",
       "      <th>R</th>\n",
       "      <th>B</th>\n",
       "      <th>M</th>\n",
       "      <th>fours</th>\n",
       "      <th>sixes</th>\n",
       "      <th>SR</th>\n",
       "      <th>is_fielder_involved</th>\n",
       "      <th>day</th>\n",
       "      <th>month</th>\n",
       "      <th>year</th>\n",
       "      <th>boundary_contribution</th>\n",
       "    </tr>\n",
       "  </thead>\n",
       "  <tbody>\n",
       "    <tr>\n",
       "      <th>0</th>\n",
       "      <td>A Ashish Reddy</td>\n",
       "      <td>280.0</td>\n",
       "      <td>193.0</td>\n",
       "      <td>262.0</td>\n",
       "      <td>17.0</td>\n",
       "      <td>14.0</td>\n",
       "      <td>3163.89</td>\n",
       "      <td>8</td>\n",
       "      <td>356.0</td>\n",
       "      <td>99.0</td>\n",
       "      <td>46313.0</td>\n",
       "      <td>0.542857</td>\n",
       "    </tr>\n",
       "    <tr>\n",
       "      <th>1</th>\n",
       "      <td>A Chandila</td>\n",
       "      <td>4.0</td>\n",
       "      <td>7.0</td>\n",
       "      <td>16.0</td>\n",
       "      <td>0.0</td>\n",
       "      <td>0.0</td>\n",
       "      <td>66.66</td>\n",
       "      <td>0</td>\n",
       "      <td>38.0</td>\n",
       "      <td>9.0</td>\n",
       "      <td>4025.0</td>\n",
       "      <td>0.000000</td>\n",
       "    </tr>\n",
       "    <tr>\n",
       "      <th>2</th>\n",
       "      <td>A Chopra</td>\n",
       "      <td>53.0</td>\n",
       "      <td>71.0</td>\n",
       "      <td>0.0</td>\n",
       "      <td>7.0</td>\n",
       "      <td>0.0</td>\n",
       "      <td>370.36</td>\n",
       "      <td>3</td>\n",
       "      <td>92.0</td>\n",
       "      <td>29.0</td>\n",
       "      <td>12049.0</td>\n",
       "      <td>0.528302</td>\n",
       "    </tr>\n",
       "    <tr>\n",
       "      <th>3</th>\n",
       "      <td>A Choudhary</td>\n",
       "      <td>25.0</td>\n",
       "      <td>20.0</td>\n",
       "      <td>30.0</td>\n",
       "      <td>1.0</td>\n",
       "      <td>1.0</td>\n",
       "      <td>491.66</td>\n",
       "      <td>1</td>\n",
       "      <td>37.0</td>\n",
       "      <td>13.0</td>\n",
       "      <td>6051.0</td>\n",
       "      <td>0.400000</td>\n",
       "    </tr>\n",
       "    <tr>\n",
       "      <th>4</th>\n",
       "      <td>A Dananjaya</td>\n",
       "      <td>4.0</td>\n",
       "      <td>5.0</td>\n",
       "      <td>0.0</td>\n",
       "      <td>0.0</td>\n",
       "      <td>0.0</td>\n",
       "      <td>80.00</td>\n",
       "      <td>0</td>\n",
       "      <td>14.0</td>\n",
       "      <td>4.0</td>\n",
       "      <td>2018.0</td>\n",
       "      <td>0.000000</td>\n",
       "    </tr>\n",
       "  </tbody>\n",
       "</table>\n",
       "</div>"
      ],
      "text/plain": [
       "          batsmen      R      B      M  fours  sixes       SR  \\\n",
       "0  A Ashish Reddy  280.0  193.0  262.0   17.0   14.0  3163.89   \n",
       "1      A Chandila    4.0    7.0   16.0    0.0    0.0    66.66   \n",
       "2        A Chopra   53.0   71.0    0.0    7.0    0.0   370.36   \n",
       "3     A Choudhary   25.0   20.0   30.0    1.0    1.0   491.66   \n",
       "4     A Dananjaya    4.0    5.0    0.0    0.0    0.0    80.00   \n",
       "\n",
       "   is_fielder_involved    day  month     year  boundary_contribution  \n",
       "0                    8  356.0   99.0  46313.0               0.542857  \n",
       "1                    0   38.0    9.0   4025.0               0.000000  \n",
       "2                    3   92.0   29.0  12049.0               0.528302  \n",
       "3                    1   37.0   13.0   6051.0               0.400000  \n",
       "4                    0   14.0    4.0   2018.0               0.000000  "
      ]
     },
     "execution_count": 36,
     "metadata": {},
     "output_type": "execute_result"
    }
   ],
   "source": [
    "new_df5.head()"
   ]
  },
  {
   "cell_type": "code",
   "execution_count": 37,
   "metadata": {},
   "outputs": [],
   "source": [
    "new_df5 = new_df5.sort_values(by = 'boundary_contribution', ascending = False)"
   ]
  },
  {
   "cell_type": "code",
   "execution_count": 38,
   "metadata": {
    "scrolled": true
   },
   "outputs": [
    {
     "data": {
      "text/html": [
       "<div>\n",
       "<style scoped>\n",
       "    .dataframe tbody tr th:only-of-type {\n",
       "        vertical-align: middle;\n",
       "    }\n",
       "\n",
       "    .dataframe tbody tr th {\n",
       "        vertical-align: top;\n",
       "    }\n",
       "\n",
       "    .dataframe thead th {\n",
       "        text-align: right;\n",
       "    }\n",
       "</style>\n",
       "<table border=\"1\" class=\"dataframe\">\n",
       "  <thead>\n",
       "    <tr style=\"text-align: right;\">\n",
       "      <th></th>\n",
       "      <th>batsmen</th>\n",
       "      <th>R</th>\n",
       "      <th>boundary_contribution</th>\n",
       "    </tr>\n",
       "  </thead>\n",
       "  <tbody>\n",
       "    <tr>\n",
       "      <th>71</th>\n",
       "      <td>BA Bhatt</td>\n",
       "      <td>6.0</td>\n",
       "      <td>1.000000</td>\n",
       "    </tr>\n",
       "    <tr>\n",
       "      <th>62</th>\n",
       "      <td>Avesh Khan</td>\n",
       "      <td>4.0</td>\n",
       "      <td>1.000000</td>\n",
       "    </tr>\n",
       "    <tr>\n",
       "      <th>382</th>\n",
       "      <td>RS Sodhi</td>\n",
       "      <td>4.0</td>\n",
       "      <td>1.000000</td>\n",
       "    </tr>\n",
       "    <tr>\n",
       "      <th>322</th>\n",
       "      <td>P Chopra</td>\n",
       "      <td>8.0</td>\n",
       "      <td>1.000000</td>\n",
       "    </tr>\n",
       "    <tr>\n",
       "      <th>493</th>\n",
       "      <td>VRV Singh</td>\n",
       "      <td>4.0</td>\n",
       "      <td>1.000000</td>\n",
       "    </tr>\n",
       "    <tr>\n",
       "      <th>154</th>\n",
       "      <td>GD McGrath</td>\n",
       "      <td>4.0</td>\n",
       "      <td>1.000000</td>\n",
       "    </tr>\n",
       "    <tr>\n",
       "      <th>239</th>\n",
       "      <td>L Ronchi</td>\n",
       "      <td>34.0</td>\n",
       "      <td>0.882353</td>\n",
       "    </tr>\n",
       "    <tr>\n",
       "      <th>486</th>\n",
       "      <td>Umar Gul</td>\n",
       "      <td>39.0</td>\n",
       "      <td>0.871795</td>\n",
       "    </tr>\n",
       "    <tr>\n",
       "      <th>180</th>\n",
       "      <td>J Arunkumar</td>\n",
       "      <td>23.0</td>\n",
       "      <td>0.869565</td>\n",
       "    </tr>\n",
       "    <tr>\n",
       "      <th>271</th>\n",
       "      <td>MDKJ Perera</td>\n",
       "      <td>14.0</td>\n",
       "      <td>0.857143</td>\n",
       "    </tr>\n",
       "  </tbody>\n",
       "</table>\n",
       "</div>"
      ],
      "text/plain": [
       "         batsmen     R  boundary_contribution\n",
       "71      BA Bhatt   6.0               1.000000\n",
       "62    Avesh Khan   4.0               1.000000\n",
       "382     RS Sodhi   4.0               1.000000\n",
       "322     P Chopra   8.0               1.000000\n",
       "493    VRV Singh   4.0               1.000000\n",
       "154   GD McGrath   4.0               1.000000\n",
       "239     L Ronchi  34.0               0.882353\n",
       "486     Umar Gul  39.0               0.871795\n",
       "180  J Arunkumar  23.0               0.869565\n",
       "271  MDKJ Perera  14.0               0.857143"
      ]
     },
     "execution_count": 38,
     "metadata": {},
     "output_type": "execute_result"
    }
   ],
   "source": [
    "new_df5[['batsmen','R','boundary_contribution']].head(10)"
   ]
  },
  {
   "cell_type": "code",
   "execution_count": 39,
   "metadata": {
    "scrolled": true
   },
   "outputs": [
    {
     "data": {
      "text/plain": [
       "['BA Bhatt',\n",
       " 'Avesh Khan',\n",
       " 'RS Sodhi',\n",
       " 'P Chopra',\n",
       " 'VRV Singh',\n",
       " 'GD McGrath',\n",
       " 'L Ronchi',\n",
       " 'Umar Gul',\n",
       " 'J Arunkumar',\n",
       " 'MDKJ Perera']"
      ]
     },
     "execution_count": 39,
     "metadata": {},
     "output_type": "execute_result"
    }
   ],
   "source": [
    "blist5=new_df5['batsmen'].head(10).tolist()\n",
    "blist5"
   ]
  },
  {
   "cell_type": "markdown",
   "metadata": {},
   "source": [
    "<h3> We can see that sorting the batsmen on boudary_contribution alone is not wise as the runs scored by the players say a different story"
   ]
  },
  {
   "cell_type": "code",
   "execution_count": null,
   "metadata": {},
   "outputs": [],
   "source": []
  },
  {
   "cell_type": "markdown",
   "metadata": {
    "colab_type": "text",
    "id": "dloabh5xqXK6"
   },
   "source": [
    "### **Question 6**\n",
    "* List down **top 10** batsmen by **strike_rate** across all seasons. Plot the top 10 batsmen on a **bar chart**\n",
    "* Repeat the above task for **bottom 10** batsmen\n",
    "* Create a sub-plot with three sections. Show the below visuals in each : \n",
    "  * Box plot of **strike rates** of the top 10 batsmen listed in 1st part of the question\n",
    "  * Box plot of **runs scored** of the top 10 batsmen\n",
    "  * Box plot of **boundary_contribution** of the top 10 batsmen\n",
    "----------------------------------"
   ]
  },
  {
   "cell_type": "code",
   "execution_count": 40,
   "metadata": {
    "colab": {},
    "colab_type": "code",
    "id": "kn9YyCupGpn-"
   },
   "outputs": [],
   "source": [
    "new_df6 =bat.groupby(['batsmen'], sort=True).sum().reset_index()"
   ]
  },
  {
   "cell_type": "code",
   "execution_count": 41,
   "metadata": {},
   "outputs": [],
   "source": [
    "new_df6['player_SR'] = new_df6.apply(lambda row:  row.R*100/row.B if row.B !=0 else 0, axis = 1) "
   ]
  },
  {
   "cell_type": "code",
   "execution_count": 42,
   "metadata": {},
   "outputs": [],
   "source": [
    "new_df6 = new_df6.sort_values(by = 'player_SR', ascending = False)"
   ]
  },
  {
   "cell_type": "code",
   "execution_count": 43,
   "metadata": {
    "scrolled": false
   },
   "outputs": [
    {
     "data": {
      "text/html": [
       "<div>\n",
       "<style scoped>\n",
       "    .dataframe tbody tr th:only-of-type {\n",
       "        vertical-align: middle;\n",
       "    }\n",
       "\n",
       "    .dataframe tbody tr th {\n",
       "        vertical-align: top;\n",
       "    }\n",
       "\n",
       "    .dataframe thead th {\n",
       "        text-align: right;\n",
       "    }\n",
       "</style>\n",
       "<table border=\"1\" class=\"dataframe\">\n",
       "  <thead>\n",
       "    <tr style=\"text-align: right;\">\n",
       "      <th></th>\n",
       "      <th>batsmen</th>\n",
       "      <th>player_SR</th>\n",
       "    </tr>\n",
       "  </thead>\n",
       "  <tbody>\n",
       "    <tr>\n",
       "      <th>69</th>\n",
       "      <td>B Stanlake</td>\n",
       "      <td>250.000000</td>\n",
       "    </tr>\n",
       "    <tr>\n",
       "      <th>486</th>\n",
       "      <td>Umar Gul</td>\n",
       "      <td>205.263158</td>\n",
       "    </tr>\n",
       "    <tr>\n",
       "      <th>382</th>\n",
       "      <td>RS Sodhi</td>\n",
       "      <td>200.000000</td>\n",
       "    </tr>\n",
       "    <tr>\n",
       "      <th>33</th>\n",
       "      <td>AD Russell</td>\n",
       "      <td>186.418109</td>\n",
       "    </tr>\n",
       "    <tr>\n",
       "      <th>244</th>\n",
       "      <td>LJ Wright</td>\n",
       "      <td>176.666667</td>\n",
       "    </tr>\n",
       "    <tr>\n",
       "      <th>454</th>\n",
       "      <td>Shahid Afridi</td>\n",
       "      <td>176.086957</td>\n",
       "    </tr>\n",
       "    <tr>\n",
       "      <th>171</th>\n",
       "      <td>I Malhotra</td>\n",
       "      <td>175.000000</td>\n",
       "    </tr>\n",
       "    <tr>\n",
       "      <th>210</th>\n",
       "      <td>K Gowtham</td>\n",
       "      <td>173.493976</td>\n",
       "    </tr>\n",
       "    <tr>\n",
       "      <th>428</th>\n",
       "      <td>SM Curran</td>\n",
       "      <td>172.727273</td>\n",
       "    </tr>\n",
       "    <tr>\n",
       "      <th>434</th>\n",
       "      <td>SN Thakur</td>\n",
       "      <td>171.428571</td>\n",
       "    </tr>\n",
       "  </tbody>\n",
       "</table>\n",
       "</div>"
      ],
      "text/plain": [
       "           batsmen   player_SR\n",
       "69      B Stanlake  250.000000\n",
       "486       Umar Gul  205.263158\n",
       "382       RS Sodhi  200.000000\n",
       "33      AD Russell  186.418109\n",
       "244      LJ Wright  176.666667\n",
       "454  Shahid Afridi  176.086957\n",
       "171     I Malhotra  175.000000\n",
       "210      K Gowtham  173.493976\n",
       "428      SM Curran  172.727273\n",
       "434      SN Thakur  171.428571"
      ]
     },
     "execution_count": 43,
     "metadata": {},
     "output_type": "execute_result"
    }
   ],
   "source": [
    "new_df6[['batsmen','player_SR']].head(10)"
   ]
  },
  {
   "cell_type": "code",
   "execution_count": 44,
   "metadata": {},
   "outputs": [
    {
     "data": {
      "text/html": [
       "<div>\n",
       "<style scoped>\n",
       "    .dataframe tbody tr th:only-of-type {\n",
       "        vertical-align: middle;\n",
       "    }\n",
       "\n",
       "    .dataframe tbody tr th {\n",
       "        vertical-align: top;\n",
       "    }\n",
       "\n",
       "    .dataframe thead th {\n",
       "        text-align: right;\n",
       "    }\n",
       "</style>\n",
       "<table border=\"1\" class=\"dataframe\">\n",
       "  <thead>\n",
       "    <tr style=\"text-align: right;\">\n",
       "      <th></th>\n",
       "      <th>batsmen</th>\n",
       "      <th>player_SR</th>\n",
       "    </tr>\n",
       "  </thead>\n",
       "  <tbody>\n",
       "    <tr>\n",
       "      <th>221</th>\n",
       "      <td>KK Ahmed</td>\n",
       "      <td>0.0</td>\n",
       "    </tr>\n",
       "    <tr>\n",
       "      <th>199</th>\n",
       "      <td>JL Denly</td>\n",
       "      <td>0.0</td>\n",
       "    </tr>\n",
       "    <tr>\n",
       "      <th>90</th>\n",
       "      <td>C Nanda</td>\n",
       "      <td>0.0</td>\n",
       "    </tr>\n",
       "    <tr>\n",
       "      <th>56</th>\n",
       "      <td>Abdur Razzak</td>\n",
       "      <td>0.0</td>\n",
       "    </tr>\n",
       "    <tr>\n",
       "      <th>463</th>\n",
       "      <td>Sunny Gupta</td>\n",
       "      <td>0.0</td>\n",
       "    </tr>\n",
       "    <tr>\n",
       "      <th>488</th>\n",
       "      <td>V Pratap Singh</td>\n",
       "      <td>0.0</td>\n",
       "    </tr>\n",
       "    <tr>\n",
       "      <th>84</th>\n",
       "      <td>BW Hilfenhaus</td>\n",
       "      <td>0.0</td>\n",
       "    </tr>\n",
       "    <tr>\n",
       "      <th>87</th>\n",
       "      <td>C Ganapathy</td>\n",
       "      <td>0.0</td>\n",
       "    </tr>\n",
       "    <tr>\n",
       "      <th>481</th>\n",
       "      <td>U Kaul</td>\n",
       "      <td>0.0</td>\n",
       "    </tr>\n",
       "    <tr>\n",
       "      <th>173</th>\n",
       "      <td>IC Pandey</td>\n",
       "      <td>0.0</td>\n",
       "    </tr>\n",
       "  </tbody>\n",
       "</table>\n",
       "</div>"
      ],
      "text/plain": [
       "            batsmen  player_SR\n",
       "221        KK Ahmed        0.0\n",
       "199        JL Denly        0.0\n",
       "90          C Nanda        0.0\n",
       "56     Abdur Razzak        0.0\n",
       "463     Sunny Gupta        0.0\n",
       "488  V Pratap Singh        0.0\n",
       "84    BW Hilfenhaus        0.0\n",
       "87      C Ganapathy        0.0\n",
       "481          U Kaul        0.0\n",
       "173       IC Pandey        0.0"
      ]
     },
     "execution_count": 44,
     "metadata": {},
     "output_type": "execute_result"
    }
   ],
   "source": [
    "new_df6[['batsmen','player_SR']].tail(10)\n"
   ]
  },
  {
   "cell_type": "code",
   "execution_count": 45,
   "metadata": {},
   "outputs": [],
   "source": [
    "bar_plot=new_df6.head(10)"
   ]
  },
  {
   "cell_type": "code",
   "execution_count": 46,
   "metadata": {},
   "outputs": [],
   "source": [
    "bar_plot2=new_df6.tail(10)"
   ]
  },
  {
   "cell_type": "code",
   "execution_count": 47,
   "metadata": {},
   "outputs": [],
   "source": [
    "batsmen=bar_plot['batsmen'].tolist()"
   ]
  },
  {
   "cell_type": "code",
   "execution_count": 48,
   "metadata": {},
   "outputs": [
    {
     "data": {
      "text/plain": [
       "Text(0.5,1,'Bar graph for TOP 10 SR of batsmen')"
      ]
     },
     "execution_count": 48,
     "metadata": {},
     "output_type": "execute_result"
    },
    {
     "data": {
      "image/png": "[encoded data removed]",
      "text/plain": [
       "<Figure size 720x360 with 1 Axes>"
      ]
     },
     "metadata": {
      "needs_background": "light"
     },
     "output_type": "display_data"
    }
   ],
   "source": [
    "ax = bar_plot.plot.bar(x='batsmen', y='player_SR', rot=0,figsize=(10,5))\n",
    "plt.title('Bar graph for TOP 10 SR of batsmen',fontsize=16)"
   ]
  },
  {
   "cell_type": "code",
   "execution_count": 49,
   "metadata": {},
   "outputs": [
    {
     "data": {
      "text/plain": [
       "Text(0.5,1,'Bar graph for Bottom 10 SR of batsmen')"
      ]
     },
     "execution_count": 49,
     "metadata": {},
     "output_type": "execute_result"
    },
    {
     "data": {
      "image/png": "[encoded data removed]",
      "text/plain": [
       "<Figure size 936x144 with 1 Axes>"
      ]
     },
     "metadata": {
      "needs_background": "light"
     },
     "output_type": "display_data"
    }
   ],
   "source": [
    "ax = bar_plot2.plot.bar(x='batsmen', y='player_SR', rot=0,figsize=(13,2))\n",
    "plt.title('Bar graph for Bottom 10 SR of batsmen',fontsize=16)"
   ]
  },
  {
   "cell_type": "code",
   "execution_count": 50,
   "metadata": {},
   "outputs": [],
   "source": [
    "bar_plot_runs=new_df.head(10)"
   ]
  },
  {
   "cell_type": "code",
   "execution_count": 51,
   "metadata": {},
   "outputs": [],
   "source": [
    "bar_plot_bc=new_df5.head(10)"
   ]
  },
  {
   "cell_type": "code",
   "execution_count": 52,
   "metadata": {},
   "outputs": [
    {
     "data": {
      "text/plain": [
       "Text(0,2.4,'Bar graphs for TOP 10 SR,R,Boundary contribution of batsmen')"
      ]
     },
     "execution_count": 52,
     "metadata": {},
     "output_type": "execute_result"
    },
    {
     "data": {
      "image/png": "[encoded data removed]",
      "text/plain": [
       "<Figure size 1440x576 with 4 Axes>"
      ]
     },
     "metadata": {
      "needs_background": "light"
     },
     "output_type": "display_data"
    }
   ],
   "source": [
    "f, axes = plt.subplots(2,2,figsize=(20,8),sharex=True)\n",
    "sns.barplot(x=bar_plot['batsmen'], y=bar_plot['player_SR'] , color=\"blue\", ax = axes[0, 0])\n",
    "sns.barplot(x=bar_plot_runs['batsmen'], y= bar_plot_runs['R'], color=\"green\", ax = axes[0, 1])\n",
    "sns.barplot(x=bar_plot_bc['batsmen'],y= bar_plot_bc['boundary_contribution'], color=\"orange\", ax = axes[1, 0])\n",
    "sns.barplot(x=bar_plot_bc['batsmen'],y= bar_plot_bc['boundary_contribution'], color=\"orange\", ax = axes[1, 1])\n",
    "plt.title('Bar graphs for TOP 10 SR,R,Boundary contribution of batsmen',y= 2.4, x = 0,fontsize=16)"
   ]
  },
  {
   "cell_type": "markdown",
   "metadata": {
    "colab_type": "text",
    "id": "pMSAVx9Rqtmm"
   },
   "source": [
    "### **Question 7**\n",
    "* Create a new column called **dismissal_status**. Use the wicket_status column to extract values like **caught, lbw, bowled** etc. and store in dismissal_status column\n",
    "* Extract the bowler name from the column **wicket_status** and store in a new column called **bowler_name**\n",
    "* Extract fielder name from the **wicket_status** column and store in a new column called **fielder_name**\n",
    "* Create a new column called **fielder_involved**. Set it to 1 if a fielder was involved in the dismissal else 0\n",
    "* Create a **count plot** of player dismissals across the categories calculated above. Which category stands out from the rest?\n",
    "------------------\n"
   ]
  },
  {
   "cell_type": "markdown",
   "metadata": {
    "colab": {},
    "colab_type": "code",
    "id": "KNxv0Y_kGrFE"
   },
   "source": [
    "<h3> Dismissal status and fielder involved is already present in the dataset"
   ]
  },
  {
   "cell_type": "code",
   "execution_count": 53,
   "metadata": {},
   "outputs": [],
   "source": [
    "df7=bat"
   ]
  },
  {
   "cell_type": "code",
   "execution_count": 54,
   "metadata": {},
   "outputs": [
    {
     "data": {
      "text/plain": [
       "Text(0.5,1,'count plot for different categories of wickets')"
      ]
     },
     "execution_count": 54,
     "metadata": {},
     "output_type": "execute_result"
    },
    {
     "data": {
      "image/png": "[encoded data removed]",
      "text/plain": [
       "<Figure size 432x288 with 1 Axes>"
      ]
     },
     "metadata": {
      "needs_background": "light"
     },
     "output_type": "display_data"
    }
   ],
   "source": [
    "ax = sns.countplot(x=df7['dismissal_mode'], data=df7)\n",
    "ax.set_xticklabels(ax.get_xticklabels(), rotation=40, ha=\"right\")\n",
    "plt.tight_layout()\n",
    "plt.title('count plot for different categories of wickets',fontsize=16)"
   ]
  },
  {
   "cell_type": "code",
   "execution_count": null,
   "metadata": {},
   "outputs": [],
   "source": []
  },
  {
   "cell_type": "markdown",
   "metadata": {
    "colab_type": "text",
    "id": "i_-gvAvBGuc0"
   },
   "source": [
    "### **Question 8**\n",
    "* Create a dataframe at a player level. Calculate below mentioned metrics :\n",
    "  * #50s\n",
    "  * #100s\n",
    "  * #4s\n",
    "  * #6s\n",
    "  * Average\n",
    "* Assign below points to the players based on the above metrics and calculate the total points earned : \n",
    "  * 1 half century = **5 points**\n",
    "  * 1 century = **10 points**\n",
    "  * 1 four = **2 point**\n",
    "  * 1 six = **4 points**\n",
    "  * Average > 30 = **20 points**\n",
    "  * Average < 30 = **10 points**\n",
    "\n",
    "* Rank the players based on total points earned. Now list down the top 10 batsmen overall across all IPL seasons\n",
    "------------------\n"
   ]
  },
  {
   "cell_type": "code",
   "execution_count": 55,
   "metadata": {
    "colab": {},
    "colab_type": "code",
    "id": "QoMd7Y0MH8wr"
   },
   "outputs": [],
   "source": [
    "df8=bat"
   ]
  },
  {
   "cell_type": "code",
   "execution_count": 56,
   "metadata": {},
   "outputs": [],
   "source": [
    "df8['scored_50'] = df8.apply(lambda row: 1 if row.R >= 50 and row.R <100 else 0, axis = 1)"
   ]
  },
  {
   "cell_type": "code",
   "execution_count": 57,
   "metadata": {},
   "outputs": [],
   "source": [
    "df8['scored_100'] = df8.apply(lambda row: 1 if row.R >= 100 else 0, axis = 1)"
   ]
  },
  {
   "cell_type": "code",
   "execution_count": 58,
   "metadata": {},
   "outputs": [],
   "source": [
    "df8['is_out'] = df8.apply(lambda row: 0 if row.dismissal_mode == 'not out' or\n",
    "                          row.dismissal_mode == 'retired' or\n",
    "                          row.dismissal_mode == 'absent hurt' else 1, axis = 1)"
   ]
  },
  {
   "cell_type": "code",
   "execution_count": 59,
   "metadata": {},
   "outputs": [],
   "source": [
    "new_df8 = df8.groupby(['batsmen'], sort=True).sum().reset_index()"
   ]
  },
  {
   "cell_type": "code",
   "execution_count": 60,
   "metadata": {},
   "outputs": [],
   "source": [
    "new_df8=new_df8[new_df8.is_out != 0]"
   ]
  },
  {
   "cell_type": "code",
   "execution_count": 61,
   "metadata": {},
   "outputs": [],
   "source": [
    "new_df8['average'] = new_df8.apply(lambda row: round(row.R/row.is_out,2), axis = 1)"
   ]
  },
  {
   "cell_type": "code",
   "execution_count": 62,
   "metadata": {},
   "outputs": [],
   "source": [
    "def conditions(s):\n",
    "    score=0\n",
    "    if (s['average'] < 30):\n",
    "        score=10\n",
    "    else:\n",
    "        score=20\n",
    "    \n",
    "    score=score+5*s['scored_50']+10*s['scored_100']+2*s['fours']+4*s['sixes']\n",
    "    return score "
   ]
  },
  {
   "cell_type": "code",
   "execution_count": 63,
   "metadata": {},
   "outputs": [],
   "source": [
    "new_df8['points'] = new_df8.apply(conditions, axis=1)\n"
   ]
  },
  {
   "cell_type": "code",
   "execution_count": 64,
   "metadata": {},
   "outputs": [],
   "source": [
    "new = new_df8[['batsmen', 'scored_50', 'scored_100','fours','sixes','average','points']].copy()\n"
   ]
  },
  {
   "cell_type": "code",
   "execution_count": 65,
   "metadata": {},
   "outputs": [],
   "source": [
    "new = new.sort_values(by = 'points', ascending = False)"
   ]
  },
  {
   "cell_type": "code",
   "execution_count": 66,
   "metadata": {},
   "outputs": [],
   "source": [
    "new['points_ranked']=new['points'].rank(ascending=0,method='min')\n"
   ]
  },
  {
   "cell_type": "code",
   "execution_count": 67,
   "metadata": {},
   "outputs": [
    {
     "data": {
      "text/html": [
       "<div>\n",
       "<style scoped>\n",
       "    .dataframe tbody tr th:only-of-type {\n",
       "        vertical-align: middle;\n",
       "    }\n",
       "\n",
       "    .dataframe tbody tr th {\n",
       "        vertical-align: top;\n",
       "    }\n",
       "\n",
       "    .dataframe thead th {\n",
       "        text-align: right;\n",
       "    }\n",
       "</style>\n",
       "<table border=\"1\" class=\"dataframe\">\n",
       "  <thead>\n",
       "    <tr style=\"text-align: right;\">\n",
       "      <th></th>\n",
       "      <th>batsmen</th>\n",
       "      <th>points_ranked</th>\n",
       "      <th>points</th>\n",
       "    </tr>\n",
       "  </thead>\n",
       "  <tbody>\n",
       "    <tr>\n",
       "      <th>95</th>\n",
       "      <td>CH Gayle</td>\n",
       "      <td>1.0</td>\n",
       "      <td>2260.0</td>\n",
       "    </tr>\n",
       "    <tr>\n",
       "      <th>424</th>\n",
       "      <td>SK Raina</td>\n",
       "      <td>2.0</td>\n",
       "      <td>1982.0</td>\n",
       "    </tr>\n",
       "    <tr>\n",
       "      <th>487</th>\n",
       "      <td>V Kohli</td>\n",
       "      <td>3.0</td>\n",
       "      <td>1970.0</td>\n",
       "    </tr>\n",
       "    <tr>\n",
       "      <th>113</th>\n",
       "      <td>DA Warner</td>\n",
       "      <td>4.0</td>\n",
       "      <td>1920.0</td>\n",
       "    </tr>\n",
       "    <tr>\n",
       "      <th>366</th>\n",
       "      <td>RG Sharma</td>\n",
       "      <td>5.0</td>\n",
       "      <td>1848.0</td>\n",
       "    </tr>\n",
       "    <tr>\n",
       "      <th>24</th>\n",
       "      <td>AB de Villiers</td>\n",
       "      <td>6.0</td>\n",
       "      <td>1777.0</td>\n",
       "    </tr>\n",
       "    <tr>\n",
       "      <th>393</th>\n",
       "      <td>S Dhawan</td>\n",
       "      <td>7.0</td>\n",
       "      <td>1637.0</td>\n",
       "    </tr>\n",
       "    <tr>\n",
       "      <th>385</th>\n",
       "      <td>RV Uthappa</td>\n",
       "      <td>8.0</td>\n",
       "      <td>1624.0</td>\n",
       "    </tr>\n",
       "    <tr>\n",
       "      <th>292</th>\n",
       "      <td>MS Dhoni</td>\n",
       "      <td>9.0</td>\n",
       "      <td>1565.0</td>\n",
       "    </tr>\n",
       "    <tr>\n",
       "      <th>442</th>\n",
       "      <td>SR Watson</td>\n",
       "      <td>10.0</td>\n",
       "      <td>1549.0</td>\n",
       "    </tr>\n",
       "  </tbody>\n",
       "</table>\n",
       "</div>"
      ],
      "text/plain": [
       "            batsmen  points_ranked  points\n",
       "95         CH Gayle            1.0  2260.0\n",
       "424        SK Raina            2.0  1982.0\n",
       "487         V Kohli            3.0  1970.0\n",
       "113       DA Warner            4.0  1920.0\n",
       "366       RG Sharma            5.0  1848.0\n",
       "24   AB de Villiers            6.0  1777.0\n",
       "393        S Dhawan            7.0  1637.0\n",
       "385      RV Uthappa            8.0  1624.0\n",
       "292        MS Dhoni            9.0  1565.0\n",
       "442       SR Watson           10.0  1549.0"
      ]
     },
     "execution_count": 67,
     "metadata": {},
     "output_type": "execute_result"
    }
   ],
   "source": [
    "new[['batsmen','points_ranked','points']].head(10)"
   ]
  },
  {
   "cell_type": "code",
   "execution_count": null,
   "metadata": {},
   "outputs": [],
   "source": []
  },
  {
   "cell_type": "markdown",
   "metadata": {
    "colab_type": "text",
    "id": "x8hPQwhAKV1I"
   },
   "source": [
    "### **Question 9**\n",
    "* Look for a column called **Special_role** to denote if a player is captain or not. \n",
    "* **Filter** the dataframe based on if a player is a captain.\n",
    "* Pick all the innings by the captains (For **IPL 2019**) and plot a **box and whiskers plot** of **%run_contribution** per captain\n",
    "  * Which captain do you think has played **captain's knock** most of the times? (purely going by % contribution to scorecard for now)\n",
    "------------------\n"
   ]
  },
  {
   "cell_type": "code",
   "execution_count": 68,
   "metadata": {
    "colab": {},
    "colab_type": "code",
    "id": "o1sfLg9CII0g"
   },
   "outputs": [],
   "source": [
    "df9= bat[(bat['special_role'] == 'captain') & (bat['year'] == 2019)]\n"
   ]
  },
  {
   "cell_type": "code",
   "execution_count": 69,
   "metadata": {
    "scrolled": true
   },
   "outputs": [],
   "source": [
    "df9 = df9.groupby(['batsmen'], sort=True).sum().reset_index()"
   ]
  },
  {
   "cell_type": "code",
   "execution_count": 70,
   "metadata": {},
   "outputs": [],
   "source": [
    "df9 = df9.sort_values(by = 'R', ascending = False)"
   ]
  },
  {
   "cell_type": "code",
   "execution_count": 71,
   "metadata": {},
   "outputs": [
    {
     "data": {
      "text/plain": [
       "1966.0"
      ]
     },
     "execution_count": 71,
     "metadata": {},
     "output_type": "execute_result"
    }
   ],
   "source": [
    "total=df9['R'].sum()\n",
    "total"
   ]
  },
  {
   "cell_type": "code",
   "execution_count": 72,
   "metadata": {},
   "outputs": [],
   "source": [
    "df9['%run_contribution'] = df9.apply(lambda row: round(row.R*100/total,2), axis = 1)"
   ]
  },
  {
   "cell_type": "code",
   "execution_count": 73,
   "metadata": {},
   "outputs": [
    {
     "data": {
      "text/html": [
       "<div>\n",
       "<style scoped>\n",
       "    .dataframe tbody tr th:only-of-type {\n",
       "        vertical-align: middle;\n",
       "    }\n",
       "\n",
       "    .dataframe tbody tr th {\n",
       "        vertical-align: top;\n",
       "    }\n",
       "\n",
       "    .dataframe thead th {\n",
       "        text-align: right;\n",
       "    }\n",
       "</style>\n",
       "<table border=\"1\" class=\"dataframe\">\n",
       "  <thead>\n",
       "    <tr style=\"text-align: right;\">\n",
       "      <th></th>\n",
       "      <th>batsmen</th>\n",
       "      <th>%run_contribution</th>\n",
       "    </tr>\n",
       "  </thead>\n",
       "  <tbody>\n",
       "    <tr>\n",
       "      <th>9</th>\n",
       "      <td>V Kohli</td>\n",
       "      <td>23.60</td>\n",
       "    </tr>\n",
       "    <tr>\n",
       "      <th>8</th>\n",
       "      <td>SS Iyer</td>\n",
       "      <td>23.55</td>\n",
       "    </tr>\n",
       "    <tr>\n",
       "      <th>5</th>\n",
       "      <td>RG Sharma</td>\n",
       "      <td>20.60</td>\n",
       "    </tr>\n",
       "    <tr>\n",
       "      <th>0</th>\n",
       "      <td>AM Rahane</td>\n",
       "      <td>10.33</td>\n",
       "    </tr>\n",
       "    <tr>\n",
       "      <th>3</th>\n",
       "      <td>KS Williamson</td>\n",
       "      <td>7.93</td>\n",
       "    </tr>\n",
       "    <tr>\n",
       "      <th>7</th>\n",
       "      <td>SPD Smith</td>\n",
       "      <td>6.77</td>\n",
       "    </tr>\n",
       "    <tr>\n",
       "      <th>2</th>\n",
       "      <td>KA Pollard</td>\n",
       "      <td>4.22</td>\n",
       "    </tr>\n",
       "    <tr>\n",
       "      <th>4</th>\n",
       "      <td>R Ashwin</td>\n",
       "      <td>2.14</td>\n",
       "    </tr>\n",
       "    <tr>\n",
       "      <th>6</th>\n",
       "      <td>SK Raina</td>\n",
       "      <td>0.76</td>\n",
       "    </tr>\n",
       "    <tr>\n",
       "      <th>1</th>\n",
       "      <td>B Kumar</td>\n",
       "      <td>0.10</td>\n",
       "    </tr>\n",
       "  </tbody>\n",
       "</table>\n",
       "</div>"
      ],
      "text/plain": [
       "         batsmen  %run_contribution\n",
       "9        V Kohli              23.60\n",
       "8        SS Iyer              23.55\n",
       "5      RG Sharma              20.60\n",
       "0      AM Rahane              10.33\n",
       "3  KS Williamson               7.93\n",
       "7      SPD Smith               6.77\n",
       "2     KA Pollard               4.22\n",
       "4       R Ashwin               2.14\n",
       "6       SK Raina               0.76\n",
       "1        B Kumar               0.10"
      ]
     },
     "execution_count": 73,
     "metadata": {},
     "output_type": "execute_result"
    }
   ],
   "source": [
    "df9[['batsmen','%run_contribution']]"
   ]
  },
  {
   "cell_type": "code",
   "execution_count": 74,
   "metadata": {
    "scrolled": true
   },
   "outputs": [
    {
     "data": {
      "text/plain": [
       "Text(0.5,1,'%Run Contribution of all the captains in 2019 in innings where the captains played')"
      ]
     },
     "execution_count": 74,
     "metadata": {},
     "output_type": "execute_result"
    },
    {
     "data": {
      "image/png": "[encoded data removed]",
      "text/plain": [
       "<Figure size 1440x360 with 1 Axes>"
      ]
     },
     "metadata": {
      "needs_background": "light"
     },
     "output_type": "display_data"
    }
   ],
   "source": [
    "plt.figure(figsize=(20,5))\n",
    "sns.barplot( x=df9[\"batsmen\"], y=df9[\"%run_contribution\"])\n",
    "plt.title('%Run Contribution of all the captains in 2019 in innings where the captains played',fontsize=18)"
   ]
  },
  {
   "cell_type": "markdown",
   "metadata": {},
   "source": [
    "<h3>It can be seen that V Kohli has played the captain's knock mostly"
   ]
  },
  {
   "cell_type": "code",
   "execution_count": null,
   "metadata": {},
   "outputs": [],
   "source": []
  },
  {
   "cell_type": "markdown",
   "metadata": {
    "colab_type": "text",
    "id": "cW8mRjJbhFar"
   },
   "source": [
    "### **Question 10**\n",
    "* Is IPL more in favor of batsmen?\n",
    "* Let's consider two metrics **total_runs** made in a match and the **run_rate** of the match\n",
    "* Create a **histogram** of **total_runs** by match. What kind of a **distribution** your discover?\n",
    "* **Repeat** the above step for **run_rate** per match too\n",
    "* Is the distribution **left skewed** or **right skewed**?\n",
    "* Discuss your insights\n",
    "\n",
    "------------------"
   ]
  },
  {
   "cell_type": "code",
   "execution_count": 75,
   "metadata": {
    "colab": {},
    "colab_type": "code",
    "id": "VPoX0jX4ei0i"
   },
   "outputs": [],
   "source": [
    "df10=bat.groupby(['match_date'])"
   ]
  },
  {
   "cell_type": "code",
   "execution_count": 76,
   "metadata": {},
   "outputs": [],
   "source": [
    "df10=bat.groupby(['match_date','match_no']).sum().reset_index()"
   ]
  },
  {
   "cell_type": "code",
   "execution_count": 77,
   "metadata": {},
   "outputs": [],
   "source": [
    "df10['run_rate'] = df10.apply(lambda row: round(row.R/(row.B/6),2), axis = 1)"
   ]
  },
  {
   "cell_type": "code",
   "execution_count": 78,
   "metadata": {
    "scrolled": false
   },
   "outputs": [
    {
     "data": {
      "text/plain": [
       "Text(0.5,1,'Histograms for total_runs in the match ')"
      ]
     },
     "execution_count": 78,
     "metadata": {},
     "output_type": "execute_result"
    },
    {
     "data": {
      "image/png": "[encoded data removed]",
      "text/plain": [
       "<Figure size 432x288 with 1 Axes>"
      ]
     },
     "metadata": {
      "needs_background": "light"
     },
     "output_type": "display_data"
    }
   ],
   "source": [
    "plt.hist(df10['R'],color = 'lightblue')\n",
    "plt.title(\"Histograms for total_runs in the match \")\n"
   ]
  },
  {
   "cell_type": "markdown",
   "metadata": {},
   "source": [
    "<h3> The histogram for totalruns in a match is right skewed ,meaning in the total score is around  300 most of the time"
   ]
  },
  {
   "cell_type": "code",
   "execution_count": 79,
   "metadata": {
    "scrolled": true
   },
   "outputs": [
    {
     "data": {
      "text/plain": [
       "Text(0.5,1,'Histograms for runrate ')"
      ]
     },
     "execution_count": 79,
     "metadata": {},
     "output_type": "execute_result"
    },
    {
     "data": {
      "image/png": "[encoded data removed]",
      "text/plain": [
       "<Figure size 432x288 with 1 Axes>"
      ]
     },
     "metadata": {
      "needs_background": "light"
     },
     "output_type": "display_data"
    }
   ],
   "source": [
    "plt.hist(df10['run_rate'],color = 'lightblue')\n",
    "plt.title(\"Histograms for runrate \")"
   ]
  },
  {
   "cell_type": "markdown",
   "metadata": {},
   "source": [
    "<h3>The histogram has almost a normal distribution around 8.0\n",
    "    <br>hence it can be conclude that in ipl batsmen have a edge over bowlers"
   ]
  },
  {
   "cell_type": "code",
   "execution_count": 80,
   "metadata": {
    "scrolled": false
   },
   "outputs": [
    {
     "data": {
      "text/html": [
       "<div>\n",
       "<style scoped>\n",
       "    .dataframe tbody tr th:only-of-type {\n",
       "        vertical-align: middle;\n",
       "    }\n",
       "\n",
       "    .dataframe tbody tr th {\n",
       "        vertical-align: top;\n",
       "    }\n",
       "\n",
       "    .dataframe thead th {\n",
       "        text-align: right;\n",
       "    }\n",
       "</style>\n",
       "<table border=\"1\" class=\"dataframe\">\n",
       "  <thead>\n",
       "    <tr style=\"text-align: right;\">\n",
       "      <th></th>\n",
       "      <th>match_date</th>\n",
       "      <th>match_no</th>\n",
       "      <th>R</th>\n",
       "      <th>B</th>\n",
       "      <th>run_rate</th>\n",
       "    </tr>\n",
       "  </thead>\n",
       "  <tbody>\n",
       "    <tr>\n",
       "      <th>0</th>\n",
       "      <td>2008-04-18</td>\n",
       "      <td>1</td>\n",
       "      <td>268.0</td>\n",
       "      <td>211.0</td>\n",
       "      <td>7.62</td>\n",
       "    </tr>\n",
       "    <tr>\n",
       "      <th>1</th>\n",
       "      <td>2008-04-19</td>\n",
       "      <td>2nd match (D/N)</td>\n",
       "      <td>430.0</td>\n",
       "      <td>241.0</td>\n",
       "      <td>10.71</td>\n",
       "    </tr>\n",
       "    <tr>\n",
       "      <th>2</th>\n",
       "      <td>2008-04-19</td>\n",
       "      <td>3rd match (N)</td>\n",
       "      <td>244.0</td>\n",
       "      <td>211.0</td>\n",
       "      <td>6.94</td>\n",
       "    </tr>\n",
       "    <tr>\n",
       "      <th>3</th>\n",
       "      <td>2008-04-20</td>\n",
       "      <td>4th match (D/N)</td>\n",
       "      <td>184.0</td>\n",
       "      <td>229.0</td>\n",
       "      <td>4.82</td>\n",
       "    </tr>\n",
       "    <tr>\n",
       "      <th>4</th>\n",
       "      <td>2008-04-20</td>\n",
       "      <td>5th match (N)</td>\n",
       "      <td>315.0</td>\n",
       "      <td>238.0</td>\n",
       "      <td>7.94</td>\n",
       "    </tr>\n",
       "  </tbody>\n",
       "</table>\n",
       "</div>"
      ],
      "text/plain": [
       "  match_date         match_no      R      B  run_rate\n",
       "0 2008-04-18                1  268.0  211.0      7.62\n",
       "1 2008-04-19  2nd match (D/N)  430.0  241.0     10.71\n",
       "2 2008-04-19    3rd match (N)  244.0  211.0      6.94\n",
       "3 2008-04-20  4th match (D/N)  184.0  229.0      4.82\n",
       "4 2008-04-20    5th match (N)  315.0  238.0      7.94"
      ]
     },
     "execution_count": 80,
     "metadata": {},
     "output_type": "execute_result"
    }
   ],
   "source": [
    "df10[['match_date','match_no','R','B','run_rate']].head()"
   ]
  },
  {
   "cell_type": "code",
   "execution_count": null,
   "metadata": {},
   "outputs": [],
   "source": []
  },
  {
   "cell_type": "markdown",
   "metadata": {
    "colab_type": "text",
    "id": "B8d-7qfbn94P"
   },
   "source": [
    "### **Question 11**\n",
    "* **Filter** the histogram (created in **Question 9**) for an **IPL season**. Ex. IPL 2016\n",
    "* Also, filter the histogram for a **team** within a **season**. Ex. for CSK within IPL 2016\n",
    "* **Describe** your observations. Think along the following **questions** : \n",
    "  * What is the meaning of **skewness**?\n",
    "  * Is there an **observable difference** between the **rate of runs** scored for some teams over others?\n",
    "    * Choose appropriate **visualization** to understand **run_rate** of teams (**Hint :** Violin charts)\n",
    "    * Which teams are strong at making **large quantity** of runs?\n",
    "    * Which teams are strong at making runs at a **quicker rate**? (Consider run a ball the **base line** for **under** or **over** indexing teams)\n",
    "\n",
    "* **Note :** *A metric is said to be under-indexed when it's value is less than the baseline value. Similarly it is said to be over-indexed when it's value is more than the baseline value*\n",
    "\n",
    "-------------------------\n",
    "    "
   ]
  },
  {
   "cell_type": "code",
   "execution_count": 81,
   "metadata": {},
   "outputs": [],
   "source": [
    "dlv = pd.read_csv(\"./new_deliveries.csv\")\n"
   ]
  },
  {
   "cell_type": "code",
   "execution_count": 82,
   "metadata": {},
   "outputs": [
    {
     "data": {
      "text/html": [
       "<div>\n",
       "<style scoped>\n",
       "    .dataframe tbody tr th:only-of-type {\n",
       "        vertical-align: middle;\n",
       "    }\n",
       "\n",
       "    .dataframe tbody tr th {\n",
       "        vertical-align: top;\n",
       "    }\n",
       "\n",
       "    .dataframe thead th {\n",
       "        text-align: right;\n",
       "    }\n",
       "</style>\n",
       "<table border=\"1\" class=\"dataframe\">\n",
       "  <thead>\n",
       "    <tr style=\"text-align: right;\">\n",
       "      <th></th>\n",
       "      <th>Match_id</th>\n",
       "      <th>City</th>\n",
       "      <th>Innings</th>\n",
       "      <th>Winner</th>\n",
       "      <th>Team</th>\n",
       "      <th>Over</th>\n",
       "      <th>Delivery</th>\n",
       "      <th>Batsman</th>\n",
       "      <th>Bowler</th>\n",
       "      <th>non_striker</th>\n",
       "      <th>runs_batsman</th>\n",
       "      <th>runs_extras</th>\n",
       "      <th>extras_type</th>\n",
       "      <th>Runs_total</th>\n",
       "      <th>player_out</th>\n",
       "      <th>mode_of_dismissal</th>\n",
       "      <th>fielders_involved</th>\n",
       "      <th>file_name</th>\n",
       "    </tr>\n",
       "  </thead>\n",
       "  <tbody>\n",
       "    <tr>\n",
       "      <th>0</th>\n",
       "      <td>2016043001</td>\n",
       "      <td>Hyderabad</td>\n",
       "      <td>1</td>\n",
       "      <td>Sunrisers Hyderabad</td>\n",
       "      <td>Sunrisers Hyderabad</td>\n",
       "      <td>1</td>\n",
       "      <td>0.1</td>\n",
       "      <td>DA Warner</td>\n",
       "      <td>KW Richardson</td>\n",
       "      <td>S Dhawan</td>\n",
       "      <td>0</td>\n",
       "      <td>0</td>\n",
       "      <td>NaN</td>\n",
       "      <td>0</td>\n",
       "      <td>NaN</td>\n",
       "      <td>NaN</td>\n",
       "      <td>NaN</td>\n",
       "      <td>980953.yaml</td>\n",
       "    </tr>\n",
       "  </tbody>\n",
       "</table>\n",
       "</div>"
      ],
      "text/plain": [
       "     Match_id       City  Innings               Winner                 Team  \\\n",
       "0  2016043001  Hyderabad        1  Sunrisers Hyderabad  Sunrisers Hyderabad   \n",
       "\n",
       "   Over  Delivery    Batsman         Bowler non_striker  runs_batsman  \\\n",
       "0     1       0.1  DA Warner  KW Richardson    S Dhawan             0   \n",
       "\n",
       "   runs_extras extras_type  Runs_total player_out mode_of_dismissal  \\\n",
       "0            0         NaN           0        NaN               NaN   \n",
       "\n",
       "  fielders_involved    file_name  \n",
       "0               NaN  980953.yaml  "
      ]
     },
     "execution_count": 82,
     "metadata": {},
     "output_type": "execute_result"
    }
   ],
   "source": [
    "dlv.head(1)"
   ]
  },
  {
   "cell_type": "code",
   "execution_count": 83,
   "metadata": {},
   "outputs": [],
   "source": [
    "dlv.Match_id=dlv.Match_id.astype(str)"
   ]
  },
  {
   "cell_type": "code",
   "execution_count": 84,
   "metadata": {},
   "outputs": [],
   "source": [
    "dlv['year'] = dlv['Match_id'].str[:4]"
   ]
  },
  {
   "cell_type": "code",
   "execution_count": 85,
   "metadata": {
    "scrolled": false
   },
   "outputs": [
    {
     "data": {
      "text/html": [
       "<div>\n",
       "<style scoped>\n",
       "    .dataframe tbody tr th:only-of-type {\n",
       "        vertical-align: middle;\n",
       "    }\n",
       "\n",
       "    .dataframe tbody tr th {\n",
       "        vertical-align: top;\n",
       "    }\n",
       "\n",
       "    .dataframe thead th {\n",
       "        text-align: right;\n",
       "    }\n",
       "</style>\n",
       "<table border=\"1\" class=\"dataframe\">\n",
       "  <thead>\n",
       "    <tr style=\"text-align: right;\">\n",
       "      <th></th>\n",
       "      <th>Match_id</th>\n",
       "      <th>City</th>\n",
       "      <th>Innings</th>\n",
       "      <th>Winner</th>\n",
       "      <th>Team</th>\n",
       "      <th>Over</th>\n",
       "      <th>Delivery</th>\n",
       "      <th>Batsman</th>\n",
       "      <th>Bowler</th>\n",
       "      <th>non_striker</th>\n",
       "      <th>runs_batsman</th>\n",
       "      <th>runs_extras</th>\n",
       "      <th>extras_type</th>\n",
       "      <th>Runs_total</th>\n",
       "      <th>player_out</th>\n",
       "      <th>mode_of_dismissal</th>\n",
       "      <th>fielders_involved</th>\n",
       "      <th>file_name</th>\n",
       "      <th>year</th>\n",
       "    </tr>\n",
       "  </thead>\n",
       "  <tbody>\n",
       "    <tr>\n",
       "      <th>0</th>\n",
       "      <td>2016043001</td>\n",
       "      <td>Hyderabad</td>\n",
       "      <td>1</td>\n",
       "      <td>Sunrisers Hyderabad</td>\n",
       "      <td>Sunrisers Hyderabad</td>\n",
       "      <td>1</td>\n",
       "      <td>0.1</td>\n",
       "      <td>DA Warner</td>\n",
       "      <td>KW Richardson</td>\n",
       "      <td>S Dhawan</td>\n",
       "      <td>0</td>\n",
       "      <td>0</td>\n",
       "      <td>NaN</td>\n",
       "      <td>0</td>\n",
       "      <td>NaN</td>\n",
       "      <td>NaN</td>\n",
       "      <td>NaN</td>\n",
       "      <td>980953.yaml</td>\n",
       "      <td>2016</td>\n",
       "    </tr>\n",
       "  </tbody>\n",
       "</table>\n",
       "</div>"
      ],
      "text/plain": [
       "     Match_id       City  Innings               Winner                 Team  \\\n",
       "0  2016043001  Hyderabad        1  Sunrisers Hyderabad  Sunrisers Hyderabad   \n",
       "\n",
       "   Over  Delivery    Batsman         Bowler non_striker  runs_batsman  \\\n",
       "0     1       0.1  DA Warner  KW Richardson    S Dhawan             0   \n",
       "\n",
       "   runs_extras extras_type  Runs_total player_out mode_of_dismissal  \\\n",
       "0            0         NaN           0        NaN               NaN   \n",
       "\n",
       "  fielders_involved    file_name  year  \n",
       "0               NaN  980953.yaml  2016  "
      ]
     },
     "execution_count": 85,
     "metadata": {},
     "output_type": "execute_result"
    }
   ],
   "source": [
    "dlv.head(1)"
   ]
  },
  {
   "cell_type": "code",
   "execution_count": 86,
   "metadata": {},
   "outputs": [],
   "source": [
    "dlv['Delivery']=1"
   ]
  },
  {
   "cell_type": "code",
   "execution_count": 87,
   "metadata": {},
   "outputs": [],
   "source": [
    "df11=dlv[dlv['year']=='2008']"
   ]
  },
  {
   "cell_type": "code",
   "execution_count": 88,
   "metadata": {},
   "outputs": [],
   "source": [
    "df11=df11.groupby(['Team']).sum().reset_index()\n"
   ]
  },
  {
   "cell_type": "code",
   "execution_count": 89,
   "metadata": {},
   "outputs": [],
   "source": [
    "df11['RR']= df11.apply(lambda row:  round((row.Runs_total)/(row.Delivery/6),2), axis = 1)"
   ]
  },
  {
   "cell_type": "code",
   "execution_count": 90,
   "metadata": {},
   "outputs": [],
   "source": [
    "df11=df11[['Team','RR','Runs_total']]"
   ]
  },
  {
   "cell_type": "code",
   "execution_count": 91,
   "metadata": {},
   "outputs": [
    {
     "data": {
      "text/html": [
       "<div>\n",
       "<style scoped>\n",
       "    .dataframe tbody tr th:only-of-type {\n",
       "        vertical-align: middle;\n",
       "    }\n",
       "\n",
       "    .dataframe tbody tr th {\n",
       "        vertical-align: top;\n",
       "    }\n",
       "\n",
       "    .dataframe thead th {\n",
       "        text-align: right;\n",
       "    }\n",
       "</style>\n",
       "<table border=\"1\" class=\"dataframe\">\n",
       "  <thead>\n",
       "    <tr style=\"text-align: right;\">\n",
       "      <th></th>\n",
       "      <th>Team</th>\n",
       "      <th>RR</th>\n",
       "      <th>Runs_total</th>\n",
       "    </tr>\n",
       "  </thead>\n",
       "  <tbody>\n",
       "    <tr>\n",
       "      <th>0</th>\n",
       "      <td>Chennai Super Kings</td>\n",
       "      <td>8.07</td>\n",
       "      <td>2520</td>\n",
       "    </tr>\n",
       "    <tr>\n",
       "      <th>1</th>\n",
       "      <td>Deccan Chargers</td>\n",
       "      <td>8.02</td>\n",
       "      <td>2229</td>\n",
       "    </tr>\n",
       "    <tr>\n",
       "      <th>2</th>\n",
       "      <td>Delhi Daredevils</td>\n",
       "      <td>8.21</td>\n",
       "      <td>2118</td>\n",
       "    </tr>\n",
       "    <tr>\n",
       "      <th>3</th>\n",
       "      <td>Kings XI Punjab</td>\n",
       "      <td>8.50</td>\n",
       "      <td>2464</td>\n",
       "    </tr>\n",
       "    <tr>\n",
       "      <th>4</th>\n",
       "      <td>Kolkata Knight Riders</td>\n",
       "      <td>7.48</td>\n",
       "      <td>1942</td>\n",
       "    </tr>\n",
       "    <tr>\n",
       "      <th>5</th>\n",
       "      <td>Mumbai Indians</td>\n",
       "      <td>7.88</td>\n",
       "      <td>2080</td>\n",
       "    </tr>\n",
       "    <tr>\n",
       "      <th>6</th>\n",
       "      <td>Rajasthan Royals</td>\n",
       "      <td>8.39</td>\n",
       "      <td>2601</td>\n",
       "    </tr>\n",
       "    <tr>\n",
       "      <th>7</th>\n",
       "      <td>Royal Challengers Bangalore</td>\n",
       "      <td>7.17</td>\n",
       "      <td>1983</td>\n",
       "    </tr>\n",
       "  </tbody>\n",
       "</table>\n",
       "</div>"
      ],
      "text/plain": [
       "                          Team    RR  Runs_total\n",
       "0          Chennai Super Kings  8.07        2520\n",
       "1              Deccan Chargers  8.02        2229\n",
       "2             Delhi Daredevils  8.21        2118\n",
       "3              Kings XI Punjab  8.50        2464\n",
       "4        Kolkata Knight Riders  7.48        1942\n",
       "5               Mumbai Indians  7.88        2080\n",
       "6             Rajasthan Royals  8.39        2601\n",
       "7  Royal Challengers Bangalore  7.17        1983"
      ]
     },
     "execution_count": 91,
     "metadata": {},
     "output_type": "execute_result"
    }
   ],
   "source": [
    "df11.head(10)"
   ]
  },
  {
   "cell_type": "code",
   "execution_count": 92,
   "metadata": {},
   "outputs": [
    {
     "data": {
      "text/plain": [
       "<matplotlib.axes._subplots.AxesSubplot at 0x180f6850c18>"
      ]
     },
     "execution_count": 92,
     "metadata": {},
     "output_type": "execute_result"
    },
    {
     "data": {
      "image/png": "[encoded data removed]",
      "text/plain": [
       "<Figure size 1224x360 with 1 Axes>"
      ]
     },
     "metadata": {
      "needs_background": "light"
     },
     "output_type": "display_data"
    }
   ],
   "source": [
    "plt.figure(figsize=(17,5))\n",
    "plt.title('Barplot for Team vs Runrate in season 2008',fontsize=18)\n",
    "sns.barplot(x=df11[\"Team\"], y=df11[\"RR\"],palette = \"Blues\")"
   ]
  },
  {
   "cell_type": "markdown",
   "metadata": {},
   "source": [
    "<h2> It can be inferred that all the teams had a RR of above baseline 6.0 in season 2008 with KXIP topping the chart"
   ]
  },
  {
   "cell_type": "markdown",
   "metadata": {},
   "source": []
  },
  {
   "cell_type": "markdown",
   "metadata": {
    "colab_type": "text",
    "id": "TBLwlAB76W5K"
   },
   "source": [
    "### **Question 12**\n",
    "* Calculate a metric **%fast_innings**. This would be percentage of innings where run_rate is more than base_line run rate of **6.0 per over**\n",
    "    * Which team are top 3 teams by **%fast_innings**?\n",
    "    * What insights do you have about the teams against %fast_innings?\n",
    "* Let's now think of how **fast** or **slow** the run was made.\n",
    "  * We will create a metric which would be an indicator of speed. Let's create a metric called **dist_base_line** which means **innings_run_rate - 6.0**.\n",
    "  * A **negative** value would mean slow run_rate and **positive** would mean fast. The value would mean the **intensity**. (We can say a value of 3.6-6 = -2.4 means a very slow run rate. Which a value of 10.2-6 = 3.6 as a very fast run rate)\n",
    "  * For a team (chose any of your choice), visualize the distribution of negative values and do the same for positive ones. \n",
    "  * Do you find skewness? If yes, how strong is it. Discuss the interesting cases.\n",
    "* Are there instances where teams are making lots of runs at a very fast pace?\n",
    "  * Create a **scatter-plot** with **runs_made** on x-axis and **run_rate** on y-axis. \n",
    "  * The **color** of the dots should correspond to the team color\n",
    "  * Discuss the **insights** derived. Are there teams really dominating the run making?\n",
    "\n",
    "---------------------------"
   ]
  },
  {
   "cell_type": "code",
   "execution_count": 93,
   "metadata": {
    "colab": {},
    "colab_type": "code",
    "id": "IyEXZhPKeqQN"
   },
   "outputs": [],
   "source": [
    "q12=dlv.copy()"
   ]
  },
  {
   "cell_type": "code",
   "execution_count": 94,
   "metadata": {},
   "outputs": [],
   "source": [
    "q12=q12.groupby(['Match_id','year','Team','Innings']).sum().reset_index()"
   ]
  },
  {
   "cell_type": "code",
   "execution_count": 95,
   "metadata": {},
   "outputs": [
    {
     "data": {
      "text/html": [
       "<div>\n",
       "<style scoped>\n",
       "    .dataframe tbody tr th:only-of-type {\n",
       "        vertical-align: middle;\n",
       "    }\n",
       "\n",
       "    .dataframe tbody tr th {\n",
       "        vertical-align: top;\n",
       "    }\n",
       "\n",
       "    .dataframe thead th {\n",
       "        text-align: right;\n",
       "    }\n",
       "</style>\n",
       "<table border=\"1\" class=\"dataframe\">\n",
       "  <thead>\n",
       "    <tr style=\"text-align: right;\">\n",
       "      <th></th>\n",
       "      <th>Match_id</th>\n",
       "      <th>year</th>\n",
       "      <th>Team</th>\n",
       "      <th>Innings</th>\n",
       "      <th>Over</th>\n",
       "      <th>Delivery</th>\n",
       "      <th>runs_batsman</th>\n",
       "      <th>runs_extras</th>\n",
       "      <th>Runs_total</th>\n",
       "    </tr>\n",
       "  </thead>\n",
       "  <tbody>\n",
       "    <tr>\n",
       "      <th>0</th>\n",
       "      <td>2008041801</td>\n",
       "      <td>2008</td>\n",
       "      <td>Kolkata Knight Riders</td>\n",
       "      <td>1</td>\n",
       "      <td>1293</td>\n",
       "      <td>124</td>\n",
       "      <td>205</td>\n",
       "      <td>17</td>\n",
       "      <td>222</td>\n",
       "    </tr>\n",
       "    <tr>\n",
       "      <th>1</th>\n",
       "      <td>2008041801</td>\n",
       "      <td>2008</td>\n",
       "      <td>Royal Challengers Bangalore</td>\n",
       "      <td>2</td>\n",
       "      <td>826</td>\n",
       "      <td>101</td>\n",
       "      <td>63</td>\n",
       "      <td>19</td>\n",
       "      <td>82</td>\n",
       "    </tr>\n",
       "    <tr>\n",
       "      <th>2</th>\n",
       "      <td>2008041901</td>\n",
       "      <td>2008</td>\n",
       "      <td>Chennai Super Kings</td>\n",
       "      <td>1</td>\n",
       "      <td>1291</td>\n",
       "      <td>124</td>\n",
       "      <td>234</td>\n",
       "      <td>6</td>\n",
       "      <td>240</td>\n",
       "    </tr>\n",
       "    <tr>\n",
       "      <th>3</th>\n",
       "      <td>2008041901</td>\n",
       "      <td>2008</td>\n",
       "      <td>Kings XI Punjab</td>\n",
       "      <td>2</td>\n",
       "      <td>1295</td>\n",
       "      <td>124</td>\n",
       "      <td>196</td>\n",
       "      <td>11</td>\n",
       "      <td>207</td>\n",
       "    </tr>\n",
       "    <tr>\n",
       "      <th>4</th>\n",
       "      <td>2008041902</td>\n",
       "      <td>2008</td>\n",
       "      <td>Delhi Daredevils</td>\n",
       "      <td>2</td>\n",
       "      <td>790</td>\n",
       "      <td>97</td>\n",
       "      <td>122</td>\n",
       "      <td>10</td>\n",
       "      <td>132</td>\n",
       "    </tr>\n",
       "  </tbody>\n",
       "</table>\n",
       "</div>"
      ],
      "text/plain": [
       "     Match_id  year                         Team  Innings  Over  Delivery  \\\n",
       "0  2008041801  2008        Kolkata Knight Riders        1  1293       124   \n",
       "1  2008041801  2008  Royal Challengers Bangalore        2   826       101   \n",
       "2  2008041901  2008          Chennai Super Kings        1  1291       124   \n",
       "3  2008041901  2008              Kings XI Punjab        2  1295       124   \n",
       "4  2008041902  2008             Delhi Daredevils        2   790        97   \n",
       "\n",
       "   runs_batsman  runs_extras  Runs_total  \n",
       "0           205           17         222  \n",
       "1            63           19          82  \n",
       "2           234            6         240  \n",
       "3           196           11         207  \n",
       "4           122           10         132  "
      ]
     },
     "execution_count": 95,
     "metadata": {},
     "output_type": "execute_result"
    }
   ],
   "source": [
    "q12.head()"
   ]
  },
  {
   "cell_type": "code",
   "execution_count": 96,
   "metadata": {},
   "outputs": [],
   "source": [
    "q12['RR']= q12.apply(lambda row:  round((row.Runs_total)/(row.Delivery/6),2), axis = 1)"
   ]
  },
  {
   "cell_type": "code",
   "execution_count": 97,
   "metadata": {},
   "outputs": [],
   "source": [
    "q12['dist_base_line']=q12['RR']-6"
   ]
  },
  {
   "cell_type": "code",
   "execution_count": 98,
   "metadata": {},
   "outputs": [],
   "source": [
    "teamlist=q12['Team'].unique().tolist()"
   ]
  },
  {
   "cell_type": "code",
   "execution_count": 99,
   "metadata": {},
   "outputs": [],
   "source": [
    "dfObj = pd.DataFrame(columns=['Team', 'Total_Innings', 'Fast_Innings','%Fast_Innings'])\n"
   ]
  },
  {
   "cell_type": "code",
   "execution_count": 100,
   "metadata": {},
   "outputs": [],
   "source": [
    "for x in teamlist:\n",
    "    Tot_inn=len(q12[q12['Team'] == x])\n",
    "    fast_inn=len(q12[(q12['Team'] == x) & (q12['RR']>6)])\n",
    "    fast= round(fast_inn*100/Tot_inn,2)\n",
    "    dfObj = dfObj.append({'Team' : x, 'Total_Innings' : Tot_inn, 'Fast_Innings' :fast_inn,'%Fast_Innings':fast}, ignore_index=True)\n",
    "\n",
    "dfObj= dfObj.sort_values(by = '%Fast_Innings', ascending = False)    "
   ]
  },
  {
   "cell_type": "code",
   "execution_count": 101,
   "metadata": {
    "scrolled": false
   },
   "outputs": [
    {
     "data": {
      "text/html": [
       "<div>\n",
       "<style scoped>\n",
       "    .dataframe tbody tr th:only-of-type {\n",
       "        vertical-align: middle;\n",
       "    }\n",
       "\n",
       "    .dataframe tbody tr th {\n",
       "        vertical-align: top;\n",
       "    }\n",
       "\n",
       "    .dataframe thead th {\n",
       "        text-align: right;\n",
       "    }\n",
       "</style>\n",
       "<table border=\"1\" class=\"dataframe\">\n",
       "  <thead>\n",
       "    <tr style=\"text-align: right;\">\n",
       "      <th></th>\n",
       "      <th>Team</th>\n",
       "      <th>Total_Innings</th>\n",
       "      <th>Fast_Innings</th>\n",
       "      <th>%Fast_Innings</th>\n",
       "    </tr>\n",
       "  </thead>\n",
       "  <tbody>\n",
       "    <tr>\n",
       "      <th>13</th>\n",
       "      <td>Rising Pune Supergiant</td>\n",
       "      <td>16</td>\n",
       "      <td>16</td>\n",
       "      <td>100.00</td>\n",
       "    </tr>\n",
       "    <tr>\n",
       "      <th>6</th>\n",
       "      <td>Deccan Chargers</td>\n",
       "      <td>75</td>\n",
       "      <td>71</td>\n",
       "      <td>94.67</td>\n",
       "    </tr>\n",
       "    <tr>\n",
       "      <th>12</th>\n",
       "      <td>Gujarat Lions</td>\n",
       "      <td>31</td>\n",
       "      <td>29</td>\n",
       "      <td>93.55</td>\n",
       "    </tr>\n",
       "    <tr>\n",
       "      <th>1</th>\n",
       "      <td>Royal Challengers Bangalore</td>\n",
       "      <td>153</td>\n",
       "      <td>143</td>\n",
       "      <td>93.46</td>\n",
       "    </tr>\n",
       "  </tbody>\n",
       "</table>\n",
       "</div>"
      ],
      "text/plain": [
       "                           Team Total_Innings Fast_Innings  %Fast_Innings\n",
       "13       Rising Pune Supergiant            16           16         100.00\n",
       "6               Deccan Chargers            75           71          94.67\n",
       "12                Gujarat Lions            31           29          93.55\n",
       "1   Royal Challengers Bangalore           153          143          93.46"
      ]
     },
     "execution_count": 101,
     "metadata": {},
     "output_type": "execute_result"
    }
   ],
   "source": [
    "dfObj.head(4)"
   ]
  },
  {
   "cell_type": "markdown",
   "metadata": {},
   "source": [
    "<h3>RPS And DC seems to have highest %fast innings"
   ]
  },
  {
   "cell_type": "code",
   "execution_count": 102,
   "metadata": {},
   "outputs": [],
   "source": [
    "df12=q12[q12['Team']=='Mumbai Indians']"
   ]
  },
  {
   "cell_type": "code",
   "execution_count": 103,
   "metadata": {},
   "outputs": [],
   "source": [
    "df12_n=df12[df12['dist_base_line']<=0]"
   ]
  },
  {
   "cell_type": "code",
   "execution_count": 104,
   "metadata": {},
   "outputs": [],
   "source": [
    "df12_p=df12[df12['dist_base_line']>0]"
   ]
  },
  {
   "cell_type": "code",
   "execution_count": 105,
   "metadata": {},
   "outputs": [
    {
     "data": {
      "text/plain": [
       "Text(0.5,1,'Violin Plot for Comparing (<0) dist_base_line of Mumbai Indians in Two Innings')"
      ]
     },
     "execution_count": 105,
     "metadata": {},
     "output_type": "execute_result"
    },
    {
     "data": {
      "image/png": "[encoded data removed]",
      "text/plain": [
       "<Figure size 432x288 with 1 Axes>"
      ]
     },
     "metadata": {
      "needs_background": "light"
     },
     "output_type": "display_data"
    }
   ],
   "source": [
    "sns.violinplot(x=df12_n[\"Innings\"], y=df12_n[\"dist_base_line\"],palette = \"Blues\",inner = 'stick').set_title('Violin Plot for Comparing (<0) dist_base_line of Mumbai Indians in Two Innings')"
   ]
  },
  {
   "cell_type": "markdown",
   "metadata": {},
   "source": [
    "<h3> It seems that Mumbai Indians have RR less than baseline mostly while chasing "
   ]
  },
  {
   "cell_type": "code",
   "execution_count": 106,
   "metadata": {},
   "outputs": [
    {
     "data": {
      "text/plain": [
       "Text(0.5,1,'Violin Plot for Comparing (>0) dist_base_line of Mumbai Indians in Two Innings')"
      ]
     },
     "execution_count": 106,
     "metadata": {},
     "output_type": "execute_result"
    },
    {
     "data": {
      "image/png": "[encoded data removed]",
      "text/plain": [
       "<Figure size 432x288 with 1 Axes>"
      ]
     },
     "metadata": {
      "needs_background": "light"
     },
     "output_type": "display_data"
    }
   ],
   "source": [
    "sns.violinplot(x=df12_p[\"Innings\"], y=df12_p[\"dist_base_line\"],palette = \"Blues\",inner = 'stick').set_title('Violin Plot for Comparing (>0) dist_base_line of Mumbai Indians in Two Innings')"
   ]
  },
  {
   "cell_type": "markdown",
   "metadata": {},
   "source": [
    "<h3> It seems that Mumbai Indians can score above RR baseline  in both the innings"
   ]
  },
  {
   "cell_type": "code",
   "execution_count": 107,
   "metadata": {},
   "outputs": [
    {
     "data": {
      "text/plain": [
       "0            Chennai Super Kings\n",
       "1                Deccan Chargers\n",
       "2               Delhi Daredevils\n",
       "3                Kings XI Punjab\n",
       "4          Kolkata Knight Riders\n",
       "5                 Mumbai Indians\n",
       "6               Rajasthan Royals\n",
       "7    Royal Challengers Bangalore\n",
       "Name: Team, dtype: object"
      ]
     },
     "execution_count": 107,
     "metadata": {},
     "output_type": "execute_result"
    }
   ],
   "source": [
    "df11['Team']"
   ]
  },
  {
   "cell_type": "code",
   "execution_count": 108,
   "metadata": {},
   "outputs": [],
   "source": [
    "\n",
    "colors = {'Chennai Super Kings':'yellow', 'Deccan Chargers':'black', 'Delhi Daredevils':'lightblue', 'Kings XI Punjab':'grey',\n",
    "          'Kolkata Knight Riders': 'purple','Mumbai Indians':'blue','Rajasthan Royals':'darkblue','Royal Challengers Bangalore':'red'}\n"
   ]
  },
  {
   "cell_type": "code",
   "execution_count": 109,
   "metadata": {},
   "outputs": [
    {
     "data": {
      "image/png": "[encoded data removed]",
      "text/plain": [
       "<Figure size 432x288 with 1 Axes>"
      ]
     },
     "metadata": {
      "needs_background": "light"
     },
     "output_type": "display_data"
    }
   ],
   "source": [
    "fig, ax = plt.subplots()\n",
    "\n",
    "ax.scatter(df11['RR'], df11['Runs_total'], c=df11['Team'].apply(lambda x: colors[x]))\n",
    "plt.title('RR vs Total runs scatter plots for the teams in year 2008',fontsize=16)\n",
    "plt.show()"
   ]
  },
  {
   "cell_type": "markdown",
   "metadata": {},
   "source": [
    "<h3> Rajasthan Royals and KKR score fast and scored more in 2008"
   ]
  },
  {
   "cell_type": "code",
   "execution_count": null,
   "metadata": {},
   "outputs": [],
   "source": []
  },
  {
   "cell_type": "markdown",
   "metadata": {
    "colab_type": "text",
    "id": "ZoWklGAYU0Xk"
   },
   "source": [
    "### **Question 13**\n",
    "* Let's analyze whether higher run_rate lead to victory?\n",
    "* Create a visualization to analyze run_rates of teams in matches which it won against the ones it lost. (Hint : Box plots)\n",
    "* Discuss your insights :\n",
    "  * Is there a team which is really winning based on a higher run_rate maintained by them?\n",
    "  * Think about a **statistical test of significance** which can help you evaluate the hypothesis mentioned in the 1st point.\n",
    "    * **Reference 1 :** [Understanding the tests of significance](https://towardsdatascience.com/statistical-significance-hypothesis-testing-the-normal-curve-and-p-values-93274fa32687)\n",
    "    * **Reference 2 :** [When to apply what?](https://towardsdatascience.com/statistical-tests-when-to-use-which-704557554740)\n",
    "    * **Reference 3 :** [Understanding T-test](https://www.analyticsvidhya.com/blog/2020/06/statistics-analytics-hypothesis-testing-z-test-t-test/?utm_source=feedburner&utm_medium=email&utm_campaign=Feed%3A+AnalyticsVidhya+%28Analytics+Vidhya%29)\n",
    "  * **(Optional)**. Implement the test and explain your result\n",
    "\n",
    "------------------"
   ]
  },
  {
   "cell_type": "code",
   "execution_count": 110,
   "metadata": {},
   "outputs": [],
   "source": [
    "df13=dlv.copy()"
   ]
  },
  {
   "cell_type": "code",
   "execution_count": 111,
   "metadata": {},
   "outputs": [],
   "source": [
    "df13=df13.replace({'Winner':{'Rising Pune Supergiants':'Rising Pune Supergiant'}})"
   ]
  },
  {
   "cell_type": "code",
   "execution_count": 112,
   "metadata": {},
   "outputs": [],
   "source": [
    "df13=df13.replace({'Team':{'Rising Pune Supergiants':'Rising Pune Supergiant'}})"
   ]
  },
  {
   "cell_type": "code",
   "execution_count": 113,
   "metadata": {},
   "outputs": [],
   "source": [
    "won=df13[df13['Winner']==df13['Team']]"
   ]
  },
  {
   "cell_type": "code",
   "execution_count": 114,
   "metadata": {},
   "outputs": [],
   "source": [
    "won=won.groupby(['Match_id','Team']).sum().reset_index()"
   ]
  },
  {
   "cell_type": "code",
   "execution_count": 115,
   "metadata": {},
   "outputs": [],
   "source": [
    "won['RR']= won.apply(lambda row:  round((row.Runs_total)/(row.Delivery/6),2), axis = 1)"
   ]
  },
  {
   "cell_type": "code",
   "execution_count": 116,
   "metadata": {},
   "outputs": [
    {
     "data": {
      "text/plain": [
       "[Text(0,0,'Kolkata Knight Riders'),\n",
       " Text(0,0,'Chennai Super Kings'),\n",
       " Text(0,0,'Delhi Daredevils'),\n",
       " Text(0,0,'Royal Challengers Bangalore'),\n",
       " Text(0,0,'Rajasthan Royals'),\n",
       " Text(0,0,'Kings XI Punjab'),\n",
       " Text(0,0,'Deccan Chargers'),\n",
       " Text(0,0,'Mumbai Indians'),\n",
       " Text(0,0,'Pune Warriors'),\n",
       " Text(0,0,'Kochi Tuskers Kerala'),\n",
       " Text(0,0,'Sunrisers Hyderabad'),\n",
       " Text(0,0,'Rising Pune Supergiant'),\n",
       " Text(0,0,'Gujarat Lions')]"
      ]
     },
     "execution_count": 116,
     "metadata": {},
     "output_type": "execute_result"
    },
    {
     "data": {
      "image/png": "[encoded data removed]",
      "text/plain": [
       "<Figure size 1584x576 with 1 Axes>"
      ]
     },
     "metadata": {
      "needs_background": "light"
     },
     "output_type": "display_data"
    }
   ],
   "source": [
    "plt.figure(figsize=(22,8))\n",
    "plt.title('boxplot of RR of matches won by each team',fontsize=16)\n",
    "chart=sns.boxplot(x=won['Team'],y=won['RR'])\n",
    "chart.set_xticklabels(chart.get_xticklabels(), rotation=45,horizontalalignment='right',fontsize='x-large')\n",
    "\n"
   ]
  },
  {
   "cell_type": "code",
   "execution_count": 117,
   "metadata": {},
   "outputs": [],
   "source": [
    "lost=df13[df13['Winner']!=df13['Team']]"
   ]
  },
  {
   "cell_type": "code",
   "execution_count": 118,
   "metadata": {},
   "outputs": [],
   "source": [
    "lost=lost.groupby(['Match_id','Team']).sum().reset_index()"
   ]
  },
  {
   "cell_type": "code",
   "execution_count": 119,
   "metadata": {},
   "outputs": [],
   "source": [
    "lost['RR']= lost.apply(lambda row:  round((row.Runs_total)/(row.Delivery/6),2), axis = 1)"
   ]
  },
  {
   "cell_type": "code",
   "execution_count": 120,
   "metadata": {},
   "outputs": [
    {
     "data": {
      "text/plain": [
       "[Text(0,0,'Royal Challengers Bangalore'),\n",
       " Text(0,0,'Kings XI Punjab'),\n",
       " Text(0,0,'Rajasthan Royals'),\n",
       " Text(0,0,'Deccan Chargers'),\n",
       " Text(0,0,'Mumbai Indians'),\n",
       " Text(0,0,'Kolkata Knight Riders'),\n",
       " Text(0,0,'Delhi Daredevils'),\n",
       " Text(0,0,'Chennai Super Kings'),\n",
       " Text(0,0,'Kochi Tuskers Kerala'),\n",
       " Text(0,0,'Pune Warriors'),\n",
       " Text(0,0,'Sunrisers Hyderabad'),\n",
       " Text(0,0,'Rising Pune Supergiant'),\n",
       " Text(0,0,'Gujarat Lions')]"
      ]
     },
     "execution_count": 120,
     "metadata": {},
     "output_type": "execute_result"
    },
    {
     "data": {
      "image/png": "[encoded data removed]",
      "text/plain": [
       "<Figure size 1584x576 with 1 Axes>"
      ]
     },
     "metadata": {
      "needs_background": "light"
     },
     "output_type": "display_data"
    }
   ],
   "source": [
    "plt.figure(figsize=(22,8))\n",
    "plt.title('boxplot of RR of matches lost by each team',fontsize=16)\n",
    "chart=sns.boxplot(x=lost['Team'],y=lost['RR'])\n",
    "chart.set_xticklabels(chart.get_xticklabels(), rotation=45,horizontalalignment='right',fontsize='x-large')"
   ]
  },
  {
   "cell_type": "markdown",
   "metadata": {},
   "source": [
    "<h3> According to the boxplot everyteam has higher RR in matches won than in matches lost. Hence it can be inferred that higher RR is required for winning matches"
   ]
  },
  {
   "cell_type": "code",
   "execution_count": null,
   "metadata": {},
   "outputs": [],
   "source": []
  },
  {
   "cell_type": "markdown",
   "metadata": {
    "colab_type": "text",
    "id": "8hGgVsakYgU5"
   },
   "source": [
    "### **Question 14**\n",
    "* **Virat Kohli** is known to be a **master chaser**. Is it so? Let's validate through raw data\n",
    "* Visualize the runs made by Virat Kohli in matches where his team played the **1st innings** (Hint : Use histograms)\n",
    "* Visualize the runs made by Virat Kohli in matches where his team played the **2nd innings**. (Note : the 2 histograms should be plotted in the same figure)\n",
    "* Interpret the histograms. Do they look cleanly **separated**?\n",
    "* Create a **1X2** subplot : \n",
    "  * In subplot **(1,1)** plot the two histograms for the matches which his team won\n",
    "  * In subplot **(1,2)** plot the two histograms for the matches which his team lost\n",
    "  * **Discuss** your findings\n",
    "    * Has Kohli been a great chaser **only** in matches won?\n",
    "* Calculate Kohli's **run contribution(%)** for all matches played by him\n",
    "  * Draw a violin plot of his **run_contribution(%)** for two categories : \n",
    "    * Matches **won** by his team\n",
    "    * Matches **lost** by his team\n",
    "  * Draw a **scatter plot** showing **run_contribution(%)** on **X-axis** and **strike_rate** on **y-axis**. Define **color** of dots as : \n",
    "    * **Green :** For matches won\n",
    "    * **Red :** For matches lost\n",
    "  * Discuss your insights. Do you think he has been playing captain's innings?\n"
   ]
  },
  {
   "cell_type": "code",
   "execution_count": 121,
   "metadata": {
    "colab": {},
    "colab_type": "code",
    "id": "P8gOGsTgrhFN"
   },
   "outputs": [],
   "source": [
    "df14=dlv.copy()"
   ]
  },
  {
   "cell_type": "code",
   "execution_count": 122,
   "metadata": {},
   "outputs": [],
   "source": [
    "Vk_1=df14[(df14['Batsman']=='V Kohli') & (df14['Innings']==1)]\n",
    "Vk_2=df14[(df14['Batsman']=='V Kohli') & (df14['Innings']==2)]"
   ]
  },
  {
   "cell_type": "code",
   "execution_count": 123,
   "metadata": {},
   "outputs": [],
   "source": [
    "Vk_1=Vk_1.groupby(['Match_id']).sum().reset_index()\n",
    "Vk_2=Vk_2.groupby(['Match_id']).sum().reset_index()"
   ]
  },
  {
   "cell_type": "code",
   "execution_count": 124,
   "metadata": {},
   "outputs": [
    {
     "name": "stdout",
     "output_type": "stream",
     "text": [
      "67\n",
      "75\n"
     ]
    }
   ],
   "source": [
    "print(Vk_1.shape[0])\n",
    "print(Vk_2.shape[0])"
   ]
  },
  {
   "cell_type": "code",
   "execution_count": 125,
   "metadata": {},
   "outputs": [
    {
     "data": {
      "text/plain": [
       "Text(0.5,1,'V Kohli scores in 1st innings (green) and 2nd innings(blue)')"
      ]
     },
     "execution_count": 125,
     "metadata": {},
     "output_type": "execute_result"
    },
    {
     "data": {
      "image/png": "[encoded data removed]",
      "text/plain": [
       "<Figure size 432x288 with 1 Axes>"
      ]
     },
     "metadata": {
      "needs_background": "light"
     },
     "output_type": "display_data"
    }
   ],
   "source": [
    "plt.hist(Vk_1['Runs_total'], color='green',alpha=0.5,bins=10, rwidth=0.9)\n",
    "plt.hist(Vk_2['Runs_total'], color='lightblue',alpha =0.5,bins=10, rwidth=0.9)\n",
    "plt.title(\"V Kohli scores in 1st innings (green) and 2nd innings(blue)\")\n"
   ]
  },
  {
   "cell_type": "markdown",
   "metadata": {},
   "source": [
    "<H3>Both histograms are nearly similar , except that in 2nd innings Captain VK has scored 30-40 runs more no. of times than 1st innings <br>whereas he has scored above 60 more times in 1st innings "
   ]
  },
  {
   "cell_type": "code",
   "execution_count": 126,
   "metadata": {},
   "outputs": [],
   "source": [
    "Vk_3=df14[(df14['Batsman']=='V Kohli') & (df14['Winner']=='Royal Challengers Bangalore')]\n",
    "Vk_4=df14[(df14['Batsman']=='V Kohli') & (df14['Team']=='Royal Challengers Bangalore') & (df14['Winner']!='Royal Challengers Bangalore')]"
   ]
  },
  {
   "cell_type": "code",
   "execution_count": 127,
   "metadata": {},
   "outputs": [],
   "source": [
    "Vk_3=Vk_3.groupby(['Match_id']).sum().reset_index()\n",
    "Vk_4=Vk_4.groupby(['Match_id']).sum().reset_index()"
   ]
  },
  {
   "cell_type": "code",
   "execution_count": 128,
   "metadata": {},
   "outputs": [
    {
     "name": "stdout",
     "output_type": "stream",
     "text": [
      "65\n",
      "76\n"
     ]
    }
   ],
   "source": [
    "print(Vk_3.shape[0])\n",
    "print(Vk_4.shape[0])"
   ]
  },
  {
   "cell_type": "code",
   "execution_count": 129,
   "metadata": {},
   "outputs": [
    {
     "data": {
      "text/plain": [
       "(array([20., 16.,  7., 10.,  4.,  9.,  5.,  4.,  0.,  1.]),\n",
       " array([  0. ,  10.1,  20.2,  30.3,  40.4,  50.5,  60.6,  70.7,  80.8,\n",
       "         90.9, 101. ]),\n",
       " <a list of 10 Patch objects>)"
      ]
     },
     "execution_count": 129,
     "metadata": {},
     "output_type": "execute_result"
    },
    {
     "data": {
      "image/png": "[encoded data removed]",
      "text/plain": [
       "<Figure size 720x216 with 2 Axes>"
      ]
     },
     "metadata": {
      "needs_background": "light"
     },
     "output_type": "display_data"
    }
   ],
   "source": [
    "\n",
    "f = plt.figure(figsize=(10,3))\n",
    "ax = f.add_subplot(121)\n",
    "ax2 = f.add_subplot(122)\n",
    "plt.title(\"V Kohli scores in Matches Won (green) and Matches Lost(blue)\")\n",
    "\n",
    "ax.hist(Vk_3['Runs_total'], color='green',alpha=0.5,bins=10, rwidth=0.9)\n",
    "\n",
    "ax2.hist(Vk_4['Runs_total'], color='lightblue',alpha =0.5,bins=10, rwidth=0.9)\n"
   ]
  },
  {
   "cell_type": "markdown",
   "metadata": {},
   "source": [
    "<h3> According to this it can be infered that RCB has higher chances of winning when captain VK scores"
   ]
  },
  {
   "cell_type": "code",
   "execution_count": 130,
   "metadata": {},
   "outputs": [],
   "source": [
    "rcb1=df14[(df14['Team']=='Royal Challengers Bangalore')&(df14['Winner']=='Royal Challengers Bangalore')]\n",
    "rcb2=df14[(df14['Team']=='Royal Challengers Bangalore')&(df14['Winner']!='Royal Challengers Bangalore')]"
   ]
  },
  {
   "cell_type": "code",
   "execution_count": 131,
   "metadata": {},
   "outputs": [],
   "source": [
    "rcb1=rcb1.groupby(['Match_id']).sum().reset_index()\n",
    "rcb2=rcb2.groupby(['Match_id']).sum().reset_index()"
   ]
  },
  {
   "cell_type": "code",
   "execution_count": 132,
   "metadata": {},
   "outputs": [],
   "source": [
    "rcb1=rcb1[['Match_id','Runs_total']]\n",
    "rcb2=rcb2[['Match_id','Runs_total']]\n"
   ]
  },
  {
   "cell_type": "code",
   "execution_count": 133,
   "metadata": {},
   "outputs": [],
   "source": [
    "list1=Vk_3['Match_id'].tolist()\n",
    "list2=Vk_4['Match_id'].tolist()"
   ]
  },
  {
   "cell_type": "code",
   "execution_count": 134,
   "metadata": {},
   "outputs": [],
   "source": [
    "rcb1 = rcb1[rcb1['Match_id'].isin(list1)].reset_index()\n",
    "rcb2=rcb2[rcb2['Match_id'].isin(list2)].reset_index()"
   ]
  },
  {
   "cell_type": "code",
   "execution_count": 135,
   "metadata": {},
   "outputs": [],
   "source": [
    "for i in range(0,len(rcb1)):\n",
    "    x=rcb1.loc[i,'Match_id']\n",
    "    rcb1.loc[i,'Vk']=Vk_3.loc[Vk_3['Match_id']==x,'Runs_total'].values[0]\n",
    "    rcb1.loc[i,'VkBalls']=Vk_3.loc[Vk_3['Match_id']==x,'Delivery'].values[0]"
   ]
  },
  {
   "cell_type": "code",
   "execution_count": 136,
   "metadata": {},
   "outputs": [],
   "source": [
    "for i in range(0,len(rcb2)):\n",
    "    x=rcb2.loc[i,'Match_id']\n",
    "    rcb2.loc[i,'Vk']=Vk_4.loc[Vk_4['Match_id']==x,'Runs_total'].values[0]\n",
    "    rcb2.loc[i,'VkBalls']=Vk_4.loc[Vk_4['Match_id']==x,'Delivery'].values[0]"
   ]
  },
  {
   "cell_type": "code",
   "execution_count": 137,
   "metadata": {},
   "outputs": [],
   "source": [
    "rcb1['Vk_Contribution%']= rcb1.apply(lambda row:  round((row.Vk)*100/(row.Runs_total),2), axis = 1)\n",
    "rcb2['Vk_Contribution%']= rcb2.apply(lambda row:  round((row.Vk)*100/(row.Runs_total),2), axis = 1)\n",
    "rcb1['Vk_SR%']= rcb1.apply(lambda row:  round((row.Vk)*100/(row.VkBalls),2), axis = 1)\n",
    "rcb2['Vk_SR%']= rcb2.apply(lambda row:  round((row.Vk)*100/(row.VkBalls),2), axis = 1)"
   ]
  },
  {
   "cell_type": "code",
   "execution_count": 138,
   "metadata": {},
   "outputs": [
    {
     "data": {
      "text/plain": [
       "Text(0.5,1,'Violin Plot for run contribution of V Kohli in Matches Won')"
      ]
     },
     "execution_count": 138,
     "metadata": {},
     "output_type": "execute_result"
    },
    {
     "data": {
      "image/png": "[encoded data removed]",
      "text/plain": [
       "<Figure size 432x288 with 1 Axes>"
      ]
     },
     "metadata": {
      "needs_background": "light"
     },
     "output_type": "display_data"
    }
   ],
   "source": [
    "sns.violinplot(data = rcb1['Vk_Contribution%'],inner = 'stick').set_title('Violin Plot for run contribution of V Kohli in Matches Won')"
   ]
  },
  {
   "cell_type": "code",
   "execution_count": 139,
   "metadata": {},
   "outputs": [
    {
     "data": {
      "text/plain": [
       "Text(0.5,1,'Violin Plot for run contribution of V Kohli in Matches lost')"
      ]
     },
     "execution_count": 139,
     "metadata": {},
     "output_type": "execute_result"
    },
    {
     "data": {
      "image/png": "[encoded data removed]",
      "text/plain": [
       "<Figure size 432x288 with 1 Axes>"
      ]
     },
     "metadata": {
      "needs_background": "light"
     },
     "output_type": "display_data"
    }
   ],
   "source": [
    "sns.violinplot(data = rcb2['Vk_Contribution%'],inner = 'stick').set_title('Violin Plot for run contribution of V Kohli in Matches lost')"
   ]
  },
  {
   "cell_type": "markdown",
   "metadata": {},
   "source": [
    "<b> We can observe that Virat Kohli's run contribution is a significant factor for RCB to win"
   ]
  },
  {
   "cell_type": "code",
   "execution_count": 140,
   "metadata": {},
   "outputs": [
    {
     "data": {
      "text/plain": [
       "Text(0.5,1,'Scatter plot for V kohli run_contribution% vs SR for matches won(green) and lost(red)')"
      ]
     },
     "execution_count": 140,
     "metadata": {},
     "output_type": "execute_result"
    },
    {
     "data": {
      "image/png": "[encoded data removed]",
      "text/plain": [
       "<Figure size 432x288 with 1 Axes>"
      ]
     },
     "metadata": {
      "needs_background": "light"
     },
     "output_type": "display_data"
    }
   ],
   "source": [
    "ax = plt.gca()\n",
    "\n",
    "ax.scatter(rcb1['Vk_Contribution%'], rcb1['Vk_SR%'], color='green')\n",
    "ax.scatter(rcb2['Vk_Contribution%'], rcb2['Vk_SR%'], color='red')\n",
    "ax.set_xlabel(\"Run Contribution%\")\n",
    "ax.set_ylabel(\"Strike Rate\")\n",
    "\n",
    "plt.title('Scatter plot for V kohli run_contribution% vs SR for matches won(green) and lost(red)')"
   ]
  },
  {
   "cell_type": "markdown",
   "metadata": {},
   "source": [
    "<h3> Gradually as the run contribution of VK increases his SR increases, and it is also evident that for winning the match he needs to contribute more and naturally his SR will also increase"
   ]
  },
  {
   "cell_type": "code",
   "execution_count": null,
   "metadata": {},
   "outputs": [],
   "source": []
  },
  {
   "cell_type": "markdown",
   "metadata": {
    "colab_type": "text",
    "id": "kni5L5ykuvFA"
   },
   "source": [
    "### **Question 15**\n",
    "* Consider you are part of **team selection committee** for your team\n",
    "* You are required to suggest **best nominations** for selection of **batsmen** during the team auctions\n",
    "* Your team owner wants a **good mix** of batsmen who can exhibit the below **traits** :\n",
    "  * Aggression\n",
    "  * Consistency\n",
    "  * Can hit at will\n",
    "  * Pinch hitters\n",
    "  * Sheet Anchors\n",
    "  * Match finishers\n",
    "* Use the data provided to you to create an exhaustive **list of metrics** which can demonstrate **quality** of a given batsman\n",
    "* Apply **suitable machine learning** techniques to generate **clusters** of batsmen\n",
    "* **Analyze** the clusters for **batting traits** and name them suitably\n",
    "* **Discuss** your outcomes "
   ]
  },
  {
   "cell_type": "code",
   "execution_count": 141,
   "metadata": {
    "colab": {},
    "colab_type": "code",
    "id": "-jVmk9zkwp_V"
   },
   "outputs": [],
   "source": [
    "df15=pd.read_csv('ipl_battingnew.csv')"
   ]
  },
  {
   "cell_type": "code",
   "execution_count": 142,
   "metadata": {},
   "outputs": [],
   "source": [
    "df15=df15[['batsmen','B','SR']]"
   ]
  },
  {
   "cell_type": "code",
   "execution_count": 143,
   "metadata": {},
   "outputs": [],
   "source": [
    "import matplotlib.pyplot as plt\n",
    "%matplotlib inline\n",
    "import numpy as np\n",
    "from sklearn.cluster import KMeans"
   ]
  },
  {
   "cell_type": "code",
   "execution_count": 144,
   "metadata": {},
   "outputs": [
    {
     "data": {
      "text/plain": [
       "<matplotlib.collections.PathCollection at 0x1808261e978>"
      ]
     },
     "execution_count": 144,
     "metadata": {},
     "output_type": "execute_result"
    },
    {
     "data": {
      "image/png": "[encoded data removed]",
      "text/plain": [
       "<Figure size 432x288 with 1 Axes>"
      ]
     },
     "metadata": {
      "needs_background": "light"
     },
     "output_type": "display_data"
    }
   ],
   "source": [
    "plt.scatter(df15['B'],df15['SR'],label='True Position')\n"
   ]
  },
  {
   "cell_type": "code",
   "execution_count": 145,
   "metadata": {},
   "outputs": [],
   "source": [
    "kmeans = KMeans(n_clusters=12)\n",
    "\n",
    "y = kmeans.fit_predict(df15[['B','SR']])"
   ]
  },
  {
   "cell_type": "code",
   "execution_count": 146,
   "metadata": {
    "scrolled": true
   },
   "outputs": [
    {
     "data": {
      "text/plain": [
       "<matplotlib.axes._subplots.AxesSubplot at 0x180826394e0>"
      ]
     },
     "execution_count": 146,
     "metadata": {},
     "output_type": "execute_result"
    },
    {
     "data": {
      "image/png": "[encoded data removed]",
      "text/plain": [
       "<Figure size 720x360 with 1 Axes>"
      ]
     },
     "metadata": {
      "needs_background": "light"
     },
     "output_type": "display_data"
    }
   ],
   "source": [
    "plt.figure(figsize=(10,5))\n",
    "sns.scatterplot(x=\"B\", y=\"SR\", hue=y,data=df15,palette='Paired',legend='full')"
   ]
  },
  {
   "cell_type": "code",
   "execution_count": 147,
   "metadata": {},
   "outputs": [],
   "source": [
    "df15['category']=y"
   ]
  },
  {
   "cell_type": "code",
   "execution_count": 148,
   "metadata": {},
   "outputs": [],
   "source": [
    "df15['category']=df15['category'].astype(str)\n"
   ]
  },
  {
   "cell_type": "markdown",
   "metadata": {},
   "source": [
    "<h3> From the clusters formed for SR vs Balls we can determine different players for different roles based on the frequency of a particular type of inning"
   ]
  },
  {
   "cell_type": "markdown",
   "metadata": {},
   "source": [
    "<h3> AGGRESIVE players belong to cluster number 6 as the SR is almost near 250, following are the players who have played this role most frequently"
   ]
  },
  {
   "cell_type": "code",
   "execution_count": 155,
   "metadata": {},
   "outputs": [
    {
     "data": {
      "text/plain": [
       "AB de Villiers    23\n",
       "MS Dhoni          23\n",
       "V Sehwag          18\n",
       "CH Gayle          17\n",
       "KA Pollard        17\n",
       "Name: batsmen, dtype: int64"
      ]
     },
     "execution_count": 155,
     "metadata": {},
     "output_type": "execute_result"
    }
   ],
   "source": [
    "df15[df15['category']=='6']['batsmen'].value_counts().head(5)"
   ]
  },
  {
   "cell_type": "markdown",
   "metadata": {},
   "source": [
    "<h3> For CONSISTENCY we can consider cluster 11"
   ]
  },
  {
   "cell_type": "code",
   "execution_count": 156,
   "metadata": {},
   "outputs": [
    {
     "data": {
      "text/plain": [
       "S Dhawan     36\n",
       "AM Rahane    35\n",
       "V Kohli      33\n",
       "G Gambhir    32\n",
       "R Dravid     24\n",
       "Name: batsmen, dtype: int64"
      ]
     },
     "execution_count": 156,
     "metadata": {},
     "output_type": "execute_result"
    }
   ],
   "source": [
    "df15[df15['category']=='11']['batsmen'].value_counts().head(5)"
   ]
  },
  {
   "cell_type": "markdown",
   "metadata": {},
   "source": [
    "<h3> Players who can HIT AT WILL belong to cluster 4 "
   ]
  },
  {
   "cell_type": "code",
   "execution_count": 161,
   "metadata": {},
   "outputs": [
    {
     "data": {
      "text/plain": [
       "YK Pathan       27\n",
       "RV Uthappa      26\n",
       "MS Dhoni        24\n",
       "SK Raina        23\n",
       "Yuvraj Singh    23\n",
       "Name: batsmen, dtype: int64"
      ]
     },
     "execution_count": 161,
     "metadata": {},
     "output_type": "execute_result"
    }
   ],
   "source": [
    "df15[(df15['category']=='4')]['batsmen'].value_counts().head(5)"
   ]
  },
  {
   "cell_type": "markdown",
   "metadata": {},
   "source": [
    "<h3> PINCH HITTERS are those who can be sent for a short while to increase the RR, here they belong to Cluster 2 and 9"
   ]
  },
  {
   "cell_type": "code",
   "execution_count": 158,
   "metadata": {},
   "outputs": [
    {
     "data": {
      "text/plain": [
       "AD Russell        10\n",
       "KA Pollard        10\n",
       "YK Pathan          9\n",
       "SP Narine          9\n",
       "AB de Villiers     8\n",
       "Name: batsmen, dtype: int64"
      ]
     },
     "execution_count": 158,
     "metadata": {},
     "output_type": "execute_result"
    }
   ],
   "source": [
    "df15[(df15['category']=='2') | (df15['category']=='9')]['batsmen'].value_counts().head(5)"
   ]
  },
  {
   "cell_type": "markdown",
   "metadata": {},
   "source": [
    "<h3> SHEET ANCHORS are responsible for maintaining their wicket and letting others take the risk, i.e Cluster 3 and 7"
   ]
  },
  {
   "cell_type": "code",
   "execution_count": 159,
   "metadata": {},
   "outputs": [
    {
     "data": {
      "text/plain": [
       "SK Raina     60\n",
       "S Dhawan     56\n",
       "MS Dhoni     53\n",
       "V Kohli      52\n",
       "RG Sharma    51\n",
       "Name: batsmen, dtype: int64"
      ]
     },
     "execution_count": 159,
     "metadata": {},
     "output_type": "execute_result"
    }
   ],
   "source": [
    "df15[(df15['category']=='3') | (df15['category']=='7')]['batsmen'].value_counts().head(5)"
   ]
  },
  {
   "cell_type": "markdown",
   "metadata": {},
   "source": [
    "<h3> MATCH FINISHERS belong to cluster 1 for scoring at higher SR and playing most number of balls"
   ]
  },
  {
   "cell_type": "code",
   "execution_count": 160,
   "metadata": {},
   "outputs": [
    {
     "data": {
      "text/plain": [
       "RG Sharma    30\n",
       "SK Raina     27\n",
       "DA Warner    24\n",
       "V Kohli      23\n",
       "CH Gayle     20\n",
       "Name: batsmen, dtype: int64"
      ]
     },
     "execution_count": 160,
     "metadata": {},
     "output_type": "execute_result"
    }
   ],
   "source": [
    "df15[df15['category']=='1']['batsmen'].value_counts().head(5)"
   ]
  },
  {
   "cell_type": "code",
   "execution_count": null,
   "metadata": {},
   "outputs": [],
   "source": []
  }
 ],
 "metadata": {
  "colab": {
   "collapsed_sections": [],
   "name": "Assignment-02.ipynb",
   "provenance": []
  },
  "kernelspec": {
   "display_name": "Python 3",
   "language": "python",
   "name": "python3"
  },
  "language_info": {
   "codemirror_mode": {
    "name": "ipython",
    "version": 3
   },
   "file_extension": ".py",
   "mimetype": "text/x-python",
   "name": "python",
   "nbconvert_exporter": "python",
   "pygments_lexer": "ipython3",
   "version": "3.7.0"
  }
 },
 "nbformat": 4,
 "nbformat_minor": 1
}
